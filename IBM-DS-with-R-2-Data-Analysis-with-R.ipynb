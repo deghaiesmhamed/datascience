{
 "cells": [
  {
   "cell_type": "markdown",
   "metadata": {},
   "source": [
    "<center><img src=\"https://cf-courses-data.s3.us.cloud-object-storage.appdomain.cloud/assets/logos/SN_web_lightmode.png\" width=\"300\"></center><br/>\n",
    "\n",
    "# Assignment: Notebook for Peer Assignment\n",
    "\n",
    "Estimated time needed: 60 minutes\n"
   ]
  },
  {
   "cell_type": "markdown",
   "metadata": {},
   "source": [
    "# Assignment Scenario\n",
    "\n",
    "Congratulations! You have just been hired by a US Weather forecast firm as a data scientist.\n",
    "\n",
    "The company is considering the weather condition to help predict the possibility of precipitations, which involves using various local climatological variables, including temperature, wind speed, humidity, dew point, and pressure. The data you will be handling was collected by a NOAA weather station located at the John F. Kennedy International Airport in Queens, New York.\n",
    "\n",
    "Your task is to provide a high level analysis of weather data in JFK Airport. Your stakeholders want to understand the current and historical record of precipitations based on different variables. For now they are mainly interested in a macro-view of JFK Airport Weather, and how it relates to the possibility to rain because it will affect flight delays and etc.\n"
   ]
  },
  {
   "cell_type": "markdown",
   "metadata": {},
   "source": [
    "# Introduction\n",
    "\n",
    "This project relates to the NOAA Weather Dataset - JFK Airport (New York). The original dataset contains 114,546 hourly observations of 12 local climatological variables (such as temperature and wind speed) collected at JFK airport. This dataset can be obtained for free from the IBM Developer [Data Asset Exchange](https://developer.ibm.com/exchanges/data/all/jfk-weather-data/). \n",
    "\n",
    "For this project, you will be using a subset dataset, which contains 5727 rows (about 5% or original rows) and 9 columns. The end goal will be to predict the precipitation using some of the available features. In this project, you will practice reading data files, preprocessing data, creating models, improving models and evaluating them to ultimately choose the best model.\n",
    "\n"
   ]
  },
  {
   "cell_type": "markdown",
   "metadata": {},
   "source": [
    "\n",
    "## Table of Contents:\n",
    "\n",
    "Using this R notebook you will complete **10 tasks**:\n",
    "* [0. Import Modules](#cell0)\n",
    "* [1. Download and Unzip NOAA Weather Dataset](#cell1)\n",
    "* [2. Read Dataset into Project](#cell2)\n",
    "* [3. Select Subset of Columns](#cell3)\n",
    "* [4. Clean Up Columns](#cell4)\n",
    "* [5. Convert Columns to Numerical Types](#cell5)\n",
    "* [6. Rename Columns](#cell6)\n",
    "* [7. Exploratory Data Analysis](#cell7)\n",
    "* [8. Linear Regression](#cell8)\n",
    "* [9. Improve the Model](#cell9)\n",
    "* [10. Find Best Model](#cell10)\n",
    "\n",
    "\n",
    "<a id=\"cell0\"></a>\n",
    "## 0. Import required modules\n",
    "\n",
    "Tidymodels is a collection of packages that use tidyverse principles to easily do the entire modeling process from preprocessing initial data, to creating a model, to tunning hyperparameters. The tidymodels packages can be used to produce high quality statistical and machine learning models. Our Jupyter notebook platforms have a built-in Tidyverse, Tidymodels and rlang packages so we do not need to install these packages prior to loading library. However, if you decide to run this lab on your RStudio Desktop locally on your machine, you can remove the commented lines of code to install these packages before loading.\n",
    " \n"
   ]
  },
  {
   "cell_type": "code",
   "execution_count": 1,
   "metadata": {
    "tags": []
   },
   "outputs": [],
   "source": [
    "# Install tidymodels if you haven't done so\n",
    "# install.packages(\"rlang\")\n",
    "# install.packages(\"tidymodels\")"
   ]
  },
  {
   "cell_type": "markdown",
   "metadata": {},
   "source": [
    "**Note: After installing the packages, restart the kernel. Without installing the packages again, load them. Tidyverse and Tidymodels will be the two main packages you will use.**\n"
   ]
  },
  {
   "cell_type": "code",
   "execution_count": 2,
   "metadata": {
    "tags": []
   },
   "outputs": [
    {
     "name": "stderr",
     "output_type": "stream",
     "text": [
      "── Attaching packages ────────────────────────────────────── tidymodels 0.1.0 ──\n",
      "✔ broom     0.5.6      ✔ recipes   0.1.12\n",
      "✔ dials     0.0.6      ✔ rsample   0.0.5 \n",
      "✔ dplyr     0.8.5      ✔ tibble    3.0.1 \n",
      "✔ ggplot2   3.3.0      ✔ tune      0.1.0 \n",
      "✔ infer     0.5.1      ✔ workflows 0.1.1 \n",
      "✔ parsnip   0.1.0      ✔ yardstick 0.0.6 \n",
      "✔ purrr     0.3.4      \n",
      "── Conflicts ───────────────────────────────────────── tidymodels_conflicts() ──\n",
      "✖ purrr::discard()  masks scales::discard()\n",
      "✖ dplyr::filter()   masks stats::filter()\n",
      "✖ dplyr::lag()      masks stats::lag()\n",
      "✖ ggplot2::margin() masks dials::margin()\n",
      "✖ recipes::step()   masks stats::step()\n",
      "── Attaching packages ─────────────────────────────────────── tidyverse 1.3.0 ──\n",
      "✔ readr   1.3.1     ✔ forcats 0.5.0\n",
      "✔ stringr 1.4.0     \n",
      "── Conflicts ────────────────────────────────────────── tidyverse_conflicts() ──\n",
      "✖ readr::col_factor() masks scales::col_factor()\n",
      "✖ purrr::discard()    masks scales::discard()\n",
      "✖ dplyr::filter()     masks stats::filter()\n",
      "✖ stringr::fixed()    masks recipes::fixed()\n",
      "✖ dplyr::lag()        masks stats::lag()\n",
      "✖ ggplot2::margin()   masks dials::margin()\n",
      "✖ readr::spec()       masks yardstick::spec()\n"
     ]
    }
   ],
   "source": [
    "# Library for modeling\n",
    "library(tidymodels)\n",
    "\n",
    "# Load tidyverse\n",
    "library(tidyverse)"
   ]
  },
  {
   "cell_type": "markdown",
   "metadata": {},
   "source": [
    "\n",
    "### Understand the Dataset\n",
    "\n",
    "The original NOAA JFK dataset contains 114,546 hourly observations of various local climatological variables (including temperature, wind speed, humidity, dew point, and pressure). \n",
    "\n",
    "In this project you will use a sample dataset, which is around 293 KB. [Link to the sample dataset](https://dax-cdn.cdn.appdomain.cloud/dax-noaa-weather-data-jfk-airport/1.1.4/noaa-weather-sample-data.tar.gz).\n",
    "\n",
    "The sample contains 5727 rows (about 5% or original rows) and 9 columns, which are:\n",
    "- DATE\n",
    "- HOURLYDewPointTempF\n",
    "- HOURLYRelativeHumidity\n",
    "- HOURLYDRYBULBTEMPF\n",
    "- HOURLYWETBULBTEMPF\n",
    "- HOURLYPrecip\n",
    "- HOURLYWindSpeed\n",
    "- HOURLYSeaLevelPressure\n",
    "- HOURLYStationPressure\n",
    "\n",
    "The original dataset is much bigger. Feel free to explore the original dataset. [Link to the original dataset.](https://dax-cdn.cdn.appdomain.cloud/dax-noaa-weather-data-jfk-airport/1.1.4/noaa_weather.html) \n",
    "\n",
    "For more information about the dataset, checkout the [preview](https://dax-cdn.cdn.appdomain.cloud/dax-noaa-weather-data-jfk-airport/1.1.4/data-preview/index.html?_ga=2.176781478.281508226.1616293518-1509963377.1616117067&cm_mc_uid=90945889198916153255549&cm_mc_sid_50200000=64650651616293516933) of NOAA Weather - JFK Airport.\n"
   ]
  },
  {
   "cell_type": "markdown",
   "metadata": {},
   "source": [
    "<a id=\"cell1\"></a>\n",
    "\n",
    "## 1. Download NOAA Weather Dataset\n",
    "\n",
    "Use the `download.file()` function to download the sample dataset from the URL below.\n",
    "\n",
    "URL = 'https://dax-cdn.cdn.appdomain.cloud/dax-noaa-weather-data-jfk-airport/1.1.4/noaa-weather-sample-data.tar.gz'\n"
   ]
  },
  {
   "cell_type": "code",
   "execution_count": 3,
   "metadata": {
    "tags": []
   },
   "outputs": [],
   "source": [
    "# url where the data is located\n",
    "url <- \"https://dax-cdn.cdn.appdomain.cloud/dax-noaa-weather-data-jfk-airport/1.1.4/noaa-weather-sample-data.tar.gz\"\n",
    "# download the file\n",
    "download.file(url, destfile = \"noaa-weather-sample-data.tar.gz\")"
   ]
  },
  {
   "cell_type": "markdown",
   "metadata": {},
   "source": [
    "Untar the zipped file.\n"
   ]
  },
  {
   "cell_type": "code",
   "execution_count": 4,
   "metadata": {
    "tags": []
   },
   "outputs": [
    {
     "name": "stderr",
     "output_type": "stream",
     "text": [
      "Warning message in untar2(tarfile, files, list, exdir, restore_times):\n",
      "“using pax extended headers”"
     ]
    }
   ],
   "source": [
    "# untar the file so we can get the csv only\n",
    "untar(\"noaa-weather-sample-data.tar.gz\", tar = \"internal\")"
   ]
  },
  {
   "cell_type": "markdown",
   "metadata": {},
   "source": [
    "<a id=\"cell2\"></a>\n",
    "## 2. Extract and Read into Project\n",
    "We start by reading in the raw dataset. You should specify the file name as \"noaa-weather-sample-data/jfk_weather_sample.csv\".\n"
   ]
  },
  {
   "cell_type": "code",
   "execution_count": 5,
   "metadata": {
    "tags": []
   },
   "outputs": [
    {
     "name": "stderr",
     "output_type": "stream",
     "text": [
      "Parsed with column specification:\n",
      "cols(\n",
      "  DATE = col_datetime(format = \"\"),\n",
      "  HOURLYDewPointTempF = col_double(),\n",
      "  HOURLYRelativeHumidity = col_double(),\n",
      "  HOURLYDRYBULBTEMPF = col_double(),\n",
      "  HOURLYWETBULBTEMPF = col_double(),\n",
      "  HOURLYPrecip = col_character(),\n",
      "  HOURLYWindSpeed = col_double(),\n",
      "  HOURLYSeaLevelPressure = col_double(),\n",
      "  HOURLYStationPressure = col_double()\n",
      ")\n",
      "Warning message:\n",
      "“1 parsing failure.\n",
      " row                 col               expected actual                                              file\n",
      "1443 HOURLYDewPointTempF no trailing characters      s 'noaa-weather-sample-data/jfk_weather_sample.csv'\n",
      "”"
     ]
    },
    {
     "data": {
      "text/html": [
       "<table>\n",
       "<caption>A spec_tbl_df: 5727 × 9</caption>\n",
       "<thead>\n",
       "\t<tr><th scope=col>DATE</th><th scope=col>HOURLYDewPointTempF</th><th scope=col>HOURLYRelativeHumidity</th><th scope=col>HOURLYDRYBULBTEMPF</th><th scope=col>HOURLYWETBULBTEMPF</th><th scope=col>HOURLYPrecip</th><th scope=col>HOURLYWindSpeed</th><th scope=col>HOURLYSeaLevelPressure</th><th scope=col>HOURLYStationPressure</th></tr>\n",
       "\t<tr><th scope=col>&lt;dttm&gt;</th><th scope=col>&lt;dbl&gt;</th><th scope=col>&lt;dbl&gt;</th><th scope=col>&lt;dbl&gt;</th><th scope=col>&lt;dbl&gt;</th><th scope=col>&lt;chr&gt;</th><th scope=col>&lt;dbl&gt;</th><th scope=col>&lt;dbl&gt;</th><th scope=col>&lt;dbl&gt;</th></tr>\n",
       "</thead>\n",
       "<tbody>\n",
       "\t<tr><td>2015-07-25 13:51:00</td><td>60</td><td>46</td><td>83</td><td>68</td><td>0.00</td><td>13</td><td>30.01</td><td>29.99</td></tr>\n",
       "\t<tr><td>2016-11-18 23:51:00</td><td>34</td><td>48</td><td>53</td><td>44</td><td>0.00</td><td> 6</td><td>30.05</td><td>30.03</td></tr>\n",
       "\t<tr><td>2013-01-06 08:51:00</td><td>33</td><td>89</td><td>36</td><td>35</td><td>0.00</td><td>13</td><td>30.14</td><td>30.12</td></tr>\n",
       "\t<tr><td>2011-01-27 16:51:00</td><td>18</td><td>48</td><td>36</td><td>30</td><td>0.00</td><td>14</td><td>29.82</td><td>29.80</td></tr>\n",
       "\t<tr><td>2015-01-03 12:16:00</td><td>27</td><td>61</td><td>39</td><td>34</td><td>T   </td><td>11</td><td>   NA</td><td>30.50</td></tr>\n",
       "\t<tr><td>2013-02-15 20:51:00</td><td>35</td><td>79</td><td>41</td><td>38</td><td>0.00</td><td> 6</td><td>29.94</td><td>29.92</td></tr>\n",
       "\t<tr><td>2014-03-01 02:51:00</td><td> 4</td><td>51</td><td>19</td><td>15</td><td>0.00</td><td> 0</td><td>30.42</td><td>30.40</td></tr>\n",
       "\t<tr><td>2014-02-12 21:51:00</td><td>14</td><td>65</td><td>24</td><td>21</td><td>0.00</td><td>11</td><td>30.37</td><td>30.35</td></tr>\n",
       "\t<tr><td>2014-10-11 09:51:00</td><td>51</td><td>90</td><td>54</td><td>52</td><td>0.06</td><td>11</td><td>30.05</td><td>30.03</td></tr>\n",
       "\t<tr><td>2012-08-09 04:00:00</td><td>71</td><td>94</td><td>73</td><td>72</td><td>NA  </td><td> 5</td><td>29.94</td><td>29.91</td></tr>\n",
       "\t<tr><td>2018-07-17 13:40:00</td><td>76</td><td>79</td><td>83</td><td>78</td><td>NA  </td><td>21</td><td>   NA</td><td>29.75</td></tr>\n",
       "\t<tr><td>2012-02-04 10:51:00</td><td>19</td><td>37</td><td>44</td><td>35</td><td>0.00</td><td> 7</td><td>30.27</td><td>30.25</td></tr>\n",
       "\t<tr><td>2012-10-28 09:51:00</td><td>48</td><td>72</td><td>57</td><td>52</td><td>0.00</td><td>17</td><td>29.86</td><td>29.84</td></tr>\n",
       "\t<tr><td>2018-07-12 08:51:00</td><td>56</td><td>47</td><td>78</td><td>65</td><td>0.00</td><td> 8</td><td>30.18</td><td>30.16</td></tr>\n",
       "\t<tr><td>2012-08-27 06:51:00</td><td>70</td><td>84</td><td>75</td><td>72</td><td>0.00</td><td> 3</td><td>30.19</td><td>30.17</td></tr>\n",
       "\t<tr><td>2018-03-23 07:51:00</td><td>23</td><td>57</td><td>37</td><td>32</td><td>0.00</td><td>11</td><td>30.03</td><td>30.01</td></tr>\n",
       "\t<tr><td>2010-05-05 10:51:00</td><td>45</td><td>37</td><td>73</td><td>58</td><td>0.00</td><td>13</td><td>29.99</td><td>29.96</td></tr>\n",
       "\t<tr><td>2013-05-18 22:00:00</td><td>50</td><td>75</td><td>58</td><td>54</td><td>NA  </td><td> 9</td><td>30.31</td><td>30.28</td></tr>\n",
       "\t<tr><td>2010-02-16 00:51:00</td><td>30</td><td>92</td><td>32</td><td>31</td><td>0.03</td><td> 9</td><td>29.62</td><td>29.59</td></tr>\n",
       "\t<tr><td>2013-03-30 22:00:00</td><td>36</td><td>79</td><td>42</td><td>39</td><td>NA  </td><td> 3</td><td>30.14</td><td>30.10</td></tr>\n",
       "\t<tr><td>2012-09-18 19:55:00</td><td>66</td><td>94</td><td>68</td><td>67</td><td>0.03</td><td>18</td><td>   NA</td><td>29.68</td></tr>\n",
       "\t<tr><td>2011-09-10 19:00:00</td><td>61</td><td>71</td><td>71</td><td>65</td><td>NA  </td><td> 6</td><td>29.97</td><td>29.94</td></tr>\n",
       "\t<tr><td>2012-11-11 08:51:00</td><td>50</td><td>78</td><td>57</td><td>53</td><td>0.00</td><td>10</td><td>30.51</td><td>30.49</td></tr>\n",
       "\t<tr><td>2014-08-14 20:51:00</td><td>56</td><td>55</td><td>73</td><td>63</td><td>0.00</td><td>15</td><td>29.87</td><td>29.84</td></tr>\n",
       "\t<tr><td>2010-03-26 04:51:00</td><td>38</td><td>79</td><td>44</td><td>41</td><td>0.02</td><td>23</td><td>29.68</td><td>29.66</td></tr>\n",
       "\t<tr><td>2015-12-13 07:00:00</td><td>50</td><td>83</td><td>55</td><td>52</td><td>NA  </td><td> 3</td><td>30.14</td><td>30.11</td></tr>\n",
       "\t<tr><td>2018-06-20 16:51:00</td><td>66</td><td>74</td><td>75</td><td>69</td><td>0.00</td><td>14</td><td>29.80</td><td>29.78</td></tr>\n",
       "\t<tr><td>2015-03-31 10:00:00</td><td>21</td><td>36</td><td>47</td><td>37</td><td>NA  </td><td>13</td><td>29.88</td><td>29.85</td></tr>\n",
       "\t<tr><td>2014-03-30 19:51:00</td><td>39</td><td>89</td><td>42</td><td>41</td><td>T   </td><td>22</td><td>29.60</td><td>29.58</td></tr>\n",
       "\t<tr><td>2011-01-21 18:51:00</td><td> 4</td><td>42</td><td>24</td><td>19</td><td>0.00</td><td>22</td><td>29.81</td><td>29.79</td></tr>\n",
       "\t<tr><td>⋮</td><td>⋮</td><td>⋮</td><td>⋮</td><td>⋮</td><td>⋮</td><td>⋮</td><td>⋮</td><td>⋮</td></tr>\n",
       "\t<tr><td>2012-04-22 08:51:00</td><td>42</td><td> 71</td><td>51</td><td>47</td><td>T   </td><td>13</td><td>29.79</td><td>29.77</td></tr>\n",
       "\t<tr><td>2011-08-24 16:51:00</td><td>62</td><td> 62</td><td>76</td><td>67</td><td>0.00</td><td>21</td><td>29.99</td><td>29.97</td></tr>\n",
       "\t<tr><td>2010-11-26 06:24:00</td><td>52</td><td> 94</td><td>54</td><td>53</td><td>T   </td><td> 8</td><td>   NA</td><td>29.57</td></tr>\n",
       "\t<tr><td>2014-08-16 07:51:00</td><td>53</td><td> 53</td><td>71</td><td>61</td><td>0.00</td><td> 6</td><td>30.01</td><td>29.99</td></tr>\n",
       "\t<tr><td>2017-08-14 19:51:00</td><td>72</td><td> 90</td><td>75</td><td>73</td><td>0.00</td><td>10</td><td>29.98</td><td>29.95</td></tr>\n",
       "\t<tr><td>2011-06-03 06:51:00</td><td>38</td><td> 40</td><td>63</td><td>51</td><td>0.00</td><td>11</td><td>30.09</td><td>30.07</td></tr>\n",
       "\t<tr><td>2013-01-07 11:51:00</td><td>23</td><td> 40</td><td>46</td><td>37</td><td>0.00</td><td>14</td><td>30.32</td><td>30.30</td></tr>\n",
       "\t<tr><td>2017-09-27 12:51:00</td><td>72</td><td> 67</td><td>84</td><td>76</td><td>0.00</td><td> 8</td><td>29.85</td><td>29.83</td></tr>\n",
       "\t<tr><td>2017-06-14 15:51:00</td><td>60</td><td> 60</td><td>75</td><td>66</td><td>0.00</td><td> 9</td><td>30.00</td><td>29.98</td></tr>\n",
       "\t<tr><td>2014-05-22 17:51:00</td><td>54</td><td> 87</td><td>58</td><td>56</td><td>0.02</td><td>10</td><td>29.89</td><td>29.87</td></tr>\n",
       "\t<tr><td>2011-12-11 20:51:00</td><td>19</td><td> 54</td><td>34</td><td>29</td><td>0.00</td><td> 7</td><td>30.64</td><td>30.63</td></tr>\n",
       "\t<tr><td>2018-05-29 12:51:00</td><td>67</td><td> 79</td><td>74</td><td>69</td><td>0.00</td><td>14</td><td>29.99</td><td>29.97</td></tr>\n",
       "\t<tr><td>2015-09-17 04:00:00</td><td>60</td><td> 79</td><td>67</td><td>63</td><td>NA  </td><td> 5</td><td>30.19</td><td>30.17</td></tr>\n",
       "\t<tr><td>2018-03-08 20:51:00</td><td>22</td><td> 57</td><td>36</td><td>31</td><td>0.00</td><td>20</td><td>29.74</td><td>29.72</td></tr>\n",
       "\t<tr><td>2017-06-09 23:51:00</td><td>57</td><td> 71</td><td>67</td><td>61</td><td>0.00</td><td> 7</td><td>29.90</td><td>29.88</td></tr>\n",
       "\t<tr><td>2013-02-10 02:51:00</td><td> 5</td><td> 54</td><td>19</td><td>16</td><td>0.00</td><td> 9</td><td>30.38</td><td>30.36</td></tr>\n",
       "\t<tr><td>2013-04-20 10:51:00</td><td>26</td><td> 34</td><td>54</td><td>42</td><td>0.00</td><td>13</td><td>30.00</td><td>29.97</td></tr>\n",
       "\t<tr><td>2017-12-28 12:51:00</td><td>-7</td><td> 32</td><td>18</td><td>13</td><td>0.00</td><td>20</td><td>30.50</td><td>30.48</td></tr>\n",
       "\t<tr><td>2015-02-09 03:51:00</td><td>20</td><td> 78</td><td>26</td><td>24</td><td>T   </td><td>22</td><td>29.94</td><td>29.91</td></tr>\n",
       "\t<tr><td>2011-01-22 09:51:00</td><td> 3</td><td> 52</td><td>18</td><td>15</td><td>0.00</td><td> 8</td><td>30.02</td><td>30.00</td></tr>\n",
       "\t<tr><td>2017-12-23 07:51:00</td><td>40</td><td>100</td><td>40</td><td>40</td><td>0.03</td><td> 9</td><td>30.02</td><td>30.00</td></tr>\n",
       "\t<tr><td>2011-10-21 09:51:00</td><td>38</td><td> 49</td><td>57</td><td>48</td><td>0.00</td><td>16</td><td>29.93</td><td>29.90</td></tr>\n",
       "\t<tr><td>2013-06-20 20:51:00</td><td>55</td><td> 66</td><td>67</td><td>60</td><td>0.00</td><td>16</td><td>30.28</td><td>30.26</td></tr>\n",
       "\t<tr><td>2017-04-01 04:51:00</td><td>37</td><td> 97</td><td>38</td><td>38</td><td>0.01</td><td>17</td><td>29.67</td><td>29.65</td></tr>\n",
       "\t<tr><td>2015-05-26 08:51:00</td><td>59</td><td> 64</td><td>72</td><td>64</td><td>0.00</td><td> 9</td><td>30.23</td><td>30.21</td></tr>\n",
       "\t<tr><td>2018-06-05 23:51:00</td><td>50</td><td> 67</td><td>61</td><td>55</td><td>0.00</td><td> 6</td><td>29.74</td><td>29.72</td></tr>\n",
       "\t<tr><td>2016-09-20 23:59:00</td><td>NA</td><td> NA</td><td>NA</td><td>NA</td><td>NA  </td><td>NA</td><td>   NA</td><td>   NA</td></tr>\n",
       "\t<tr><td>2014-04-19 18:51:00</td><td>34</td><td> 48</td><td>53</td><td>44</td><td>0.00</td><td> 3</td><td>30.28</td><td>30.26</td></tr>\n",
       "\t<tr><td>2010-01-08 10:51:00</td><td>25</td><td> 75</td><td>32</td><td>29</td><td>0.00</td><td> 7</td><td>29.72</td><td>29.69</td></tr>\n",
       "\t<tr><td>2016-01-14 18:51:00</td><td>22</td><td> 52</td><td>38</td><td>32</td><td>0.00</td><td> 0</td><td>29.99</td><td>29.97</td></tr>\n",
       "</tbody>\n",
       "</table>\n"
      ],
      "text/latex": [
       "A spec\\_tbl\\_df: 5727 × 9\n",
       "\\begin{tabular}{lllllllll}\n",
       " DATE & HOURLYDewPointTempF & HOURLYRelativeHumidity & HOURLYDRYBULBTEMPF & HOURLYWETBULBTEMPF & HOURLYPrecip & HOURLYWindSpeed & HOURLYSeaLevelPressure & HOURLYStationPressure\\\\\n",
       " <dttm> & <dbl> & <dbl> & <dbl> & <dbl> & <chr> & <dbl> & <dbl> & <dbl>\\\\\n",
       "\\hline\n",
       "\t 2015-07-25 13:51:00 & 60 & 46 & 83 & 68 & 0.00 & 13 & 30.01 & 29.99\\\\\n",
       "\t 2016-11-18 23:51:00 & 34 & 48 & 53 & 44 & 0.00 &  6 & 30.05 & 30.03\\\\\n",
       "\t 2013-01-06 08:51:00 & 33 & 89 & 36 & 35 & 0.00 & 13 & 30.14 & 30.12\\\\\n",
       "\t 2011-01-27 16:51:00 & 18 & 48 & 36 & 30 & 0.00 & 14 & 29.82 & 29.80\\\\\n",
       "\t 2015-01-03 12:16:00 & 27 & 61 & 39 & 34 & T    & 11 &    NA & 30.50\\\\\n",
       "\t 2013-02-15 20:51:00 & 35 & 79 & 41 & 38 & 0.00 &  6 & 29.94 & 29.92\\\\\n",
       "\t 2014-03-01 02:51:00 &  4 & 51 & 19 & 15 & 0.00 &  0 & 30.42 & 30.40\\\\\n",
       "\t 2014-02-12 21:51:00 & 14 & 65 & 24 & 21 & 0.00 & 11 & 30.37 & 30.35\\\\\n",
       "\t 2014-10-11 09:51:00 & 51 & 90 & 54 & 52 & 0.06 & 11 & 30.05 & 30.03\\\\\n",
       "\t 2012-08-09 04:00:00 & 71 & 94 & 73 & 72 & NA   &  5 & 29.94 & 29.91\\\\\n",
       "\t 2018-07-17 13:40:00 & 76 & 79 & 83 & 78 & NA   & 21 &    NA & 29.75\\\\\n",
       "\t 2012-02-04 10:51:00 & 19 & 37 & 44 & 35 & 0.00 &  7 & 30.27 & 30.25\\\\\n",
       "\t 2012-10-28 09:51:00 & 48 & 72 & 57 & 52 & 0.00 & 17 & 29.86 & 29.84\\\\\n",
       "\t 2018-07-12 08:51:00 & 56 & 47 & 78 & 65 & 0.00 &  8 & 30.18 & 30.16\\\\\n",
       "\t 2012-08-27 06:51:00 & 70 & 84 & 75 & 72 & 0.00 &  3 & 30.19 & 30.17\\\\\n",
       "\t 2018-03-23 07:51:00 & 23 & 57 & 37 & 32 & 0.00 & 11 & 30.03 & 30.01\\\\\n",
       "\t 2010-05-05 10:51:00 & 45 & 37 & 73 & 58 & 0.00 & 13 & 29.99 & 29.96\\\\\n",
       "\t 2013-05-18 22:00:00 & 50 & 75 & 58 & 54 & NA   &  9 & 30.31 & 30.28\\\\\n",
       "\t 2010-02-16 00:51:00 & 30 & 92 & 32 & 31 & 0.03 &  9 & 29.62 & 29.59\\\\\n",
       "\t 2013-03-30 22:00:00 & 36 & 79 & 42 & 39 & NA   &  3 & 30.14 & 30.10\\\\\n",
       "\t 2012-09-18 19:55:00 & 66 & 94 & 68 & 67 & 0.03 & 18 &    NA & 29.68\\\\\n",
       "\t 2011-09-10 19:00:00 & 61 & 71 & 71 & 65 & NA   &  6 & 29.97 & 29.94\\\\\n",
       "\t 2012-11-11 08:51:00 & 50 & 78 & 57 & 53 & 0.00 & 10 & 30.51 & 30.49\\\\\n",
       "\t 2014-08-14 20:51:00 & 56 & 55 & 73 & 63 & 0.00 & 15 & 29.87 & 29.84\\\\\n",
       "\t 2010-03-26 04:51:00 & 38 & 79 & 44 & 41 & 0.02 & 23 & 29.68 & 29.66\\\\\n",
       "\t 2015-12-13 07:00:00 & 50 & 83 & 55 & 52 & NA   &  3 & 30.14 & 30.11\\\\\n",
       "\t 2018-06-20 16:51:00 & 66 & 74 & 75 & 69 & 0.00 & 14 & 29.80 & 29.78\\\\\n",
       "\t 2015-03-31 10:00:00 & 21 & 36 & 47 & 37 & NA   & 13 & 29.88 & 29.85\\\\\n",
       "\t 2014-03-30 19:51:00 & 39 & 89 & 42 & 41 & T    & 22 & 29.60 & 29.58\\\\\n",
       "\t 2011-01-21 18:51:00 &  4 & 42 & 24 & 19 & 0.00 & 22 & 29.81 & 29.79\\\\\n",
       "\t ⋮ & ⋮ & ⋮ & ⋮ & ⋮ & ⋮ & ⋮ & ⋮ & ⋮\\\\\n",
       "\t 2012-04-22 08:51:00 & 42 &  71 & 51 & 47 & T    & 13 & 29.79 & 29.77\\\\\n",
       "\t 2011-08-24 16:51:00 & 62 &  62 & 76 & 67 & 0.00 & 21 & 29.99 & 29.97\\\\\n",
       "\t 2010-11-26 06:24:00 & 52 &  94 & 54 & 53 & T    &  8 &    NA & 29.57\\\\\n",
       "\t 2014-08-16 07:51:00 & 53 &  53 & 71 & 61 & 0.00 &  6 & 30.01 & 29.99\\\\\n",
       "\t 2017-08-14 19:51:00 & 72 &  90 & 75 & 73 & 0.00 & 10 & 29.98 & 29.95\\\\\n",
       "\t 2011-06-03 06:51:00 & 38 &  40 & 63 & 51 & 0.00 & 11 & 30.09 & 30.07\\\\\n",
       "\t 2013-01-07 11:51:00 & 23 &  40 & 46 & 37 & 0.00 & 14 & 30.32 & 30.30\\\\\n",
       "\t 2017-09-27 12:51:00 & 72 &  67 & 84 & 76 & 0.00 &  8 & 29.85 & 29.83\\\\\n",
       "\t 2017-06-14 15:51:00 & 60 &  60 & 75 & 66 & 0.00 &  9 & 30.00 & 29.98\\\\\n",
       "\t 2014-05-22 17:51:00 & 54 &  87 & 58 & 56 & 0.02 & 10 & 29.89 & 29.87\\\\\n",
       "\t 2011-12-11 20:51:00 & 19 &  54 & 34 & 29 & 0.00 &  7 & 30.64 & 30.63\\\\\n",
       "\t 2018-05-29 12:51:00 & 67 &  79 & 74 & 69 & 0.00 & 14 & 29.99 & 29.97\\\\\n",
       "\t 2015-09-17 04:00:00 & 60 &  79 & 67 & 63 & NA   &  5 & 30.19 & 30.17\\\\\n",
       "\t 2018-03-08 20:51:00 & 22 &  57 & 36 & 31 & 0.00 & 20 & 29.74 & 29.72\\\\\n",
       "\t 2017-06-09 23:51:00 & 57 &  71 & 67 & 61 & 0.00 &  7 & 29.90 & 29.88\\\\\n",
       "\t 2013-02-10 02:51:00 &  5 &  54 & 19 & 16 & 0.00 &  9 & 30.38 & 30.36\\\\\n",
       "\t 2013-04-20 10:51:00 & 26 &  34 & 54 & 42 & 0.00 & 13 & 30.00 & 29.97\\\\\n",
       "\t 2017-12-28 12:51:00 & -7 &  32 & 18 & 13 & 0.00 & 20 & 30.50 & 30.48\\\\\n",
       "\t 2015-02-09 03:51:00 & 20 &  78 & 26 & 24 & T    & 22 & 29.94 & 29.91\\\\\n",
       "\t 2011-01-22 09:51:00 &  3 &  52 & 18 & 15 & 0.00 &  8 & 30.02 & 30.00\\\\\n",
       "\t 2017-12-23 07:51:00 & 40 & 100 & 40 & 40 & 0.03 &  9 & 30.02 & 30.00\\\\\n",
       "\t 2011-10-21 09:51:00 & 38 &  49 & 57 & 48 & 0.00 & 16 & 29.93 & 29.90\\\\\n",
       "\t 2013-06-20 20:51:00 & 55 &  66 & 67 & 60 & 0.00 & 16 & 30.28 & 30.26\\\\\n",
       "\t 2017-04-01 04:51:00 & 37 &  97 & 38 & 38 & 0.01 & 17 & 29.67 & 29.65\\\\\n",
       "\t 2015-05-26 08:51:00 & 59 &  64 & 72 & 64 & 0.00 &  9 & 30.23 & 30.21\\\\\n",
       "\t 2018-06-05 23:51:00 & 50 &  67 & 61 & 55 & 0.00 &  6 & 29.74 & 29.72\\\\\n",
       "\t 2016-09-20 23:59:00 & NA &  NA & NA & NA & NA   & NA &    NA &    NA\\\\\n",
       "\t 2014-04-19 18:51:00 & 34 &  48 & 53 & 44 & 0.00 &  3 & 30.28 & 30.26\\\\\n",
       "\t 2010-01-08 10:51:00 & 25 &  75 & 32 & 29 & 0.00 &  7 & 29.72 & 29.69\\\\\n",
       "\t 2016-01-14 18:51:00 & 22 &  52 & 38 & 32 & 0.00 &  0 & 29.99 & 29.97\\\\\n",
       "\\end{tabular}\n"
      ],
      "text/markdown": [
       "\n",
       "A spec_tbl_df: 5727 × 9\n",
       "\n",
       "| DATE &lt;dttm&gt; | HOURLYDewPointTempF &lt;dbl&gt; | HOURLYRelativeHumidity &lt;dbl&gt; | HOURLYDRYBULBTEMPF &lt;dbl&gt; | HOURLYWETBULBTEMPF &lt;dbl&gt; | HOURLYPrecip &lt;chr&gt; | HOURLYWindSpeed &lt;dbl&gt; | HOURLYSeaLevelPressure &lt;dbl&gt; | HOURLYStationPressure &lt;dbl&gt; |\n",
       "|---|---|---|---|---|---|---|---|---|\n",
       "| 2015-07-25 13:51:00 | 60 | 46 | 83 | 68 | 0.00 | 13 | 30.01 | 29.99 |\n",
       "| 2016-11-18 23:51:00 | 34 | 48 | 53 | 44 | 0.00 |  6 | 30.05 | 30.03 |\n",
       "| 2013-01-06 08:51:00 | 33 | 89 | 36 | 35 | 0.00 | 13 | 30.14 | 30.12 |\n",
       "| 2011-01-27 16:51:00 | 18 | 48 | 36 | 30 | 0.00 | 14 | 29.82 | 29.80 |\n",
       "| 2015-01-03 12:16:00 | 27 | 61 | 39 | 34 | T    | 11 |    NA | 30.50 |\n",
       "| 2013-02-15 20:51:00 | 35 | 79 | 41 | 38 | 0.00 |  6 | 29.94 | 29.92 |\n",
       "| 2014-03-01 02:51:00 |  4 | 51 | 19 | 15 | 0.00 |  0 | 30.42 | 30.40 |\n",
       "| 2014-02-12 21:51:00 | 14 | 65 | 24 | 21 | 0.00 | 11 | 30.37 | 30.35 |\n",
       "| 2014-10-11 09:51:00 | 51 | 90 | 54 | 52 | 0.06 | 11 | 30.05 | 30.03 |\n",
       "| 2012-08-09 04:00:00 | 71 | 94 | 73 | 72 | NA   |  5 | 29.94 | 29.91 |\n",
       "| 2018-07-17 13:40:00 | 76 | 79 | 83 | 78 | NA   | 21 |    NA | 29.75 |\n",
       "| 2012-02-04 10:51:00 | 19 | 37 | 44 | 35 | 0.00 |  7 | 30.27 | 30.25 |\n",
       "| 2012-10-28 09:51:00 | 48 | 72 | 57 | 52 | 0.00 | 17 | 29.86 | 29.84 |\n",
       "| 2018-07-12 08:51:00 | 56 | 47 | 78 | 65 | 0.00 |  8 | 30.18 | 30.16 |\n",
       "| 2012-08-27 06:51:00 | 70 | 84 | 75 | 72 | 0.00 |  3 | 30.19 | 30.17 |\n",
       "| 2018-03-23 07:51:00 | 23 | 57 | 37 | 32 | 0.00 | 11 | 30.03 | 30.01 |\n",
       "| 2010-05-05 10:51:00 | 45 | 37 | 73 | 58 | 0.00 | 13 | 29.99 | 29.96 |\n",
       "| 2013-05-18 22:00:00 | 50 | 75 | 58 | 54 | NA   |  9 | 30.31 | 30.28 |\n",
       "| 2010-02-16 00:51:00 | 30 | 92 | 32 | 31 | 0.03 |  9 | 29.62 | 29.59 |\n",
       "| 2013-03-30 22:00:00 | 36 | 79 | 42 | 39 | NA   |  3 | 30.14 | 30.10 |\n",
       "| 2012-09-18 19:55:00 | 66 | 94 | 68 | 67 | 0.03 | 18 |    NA | 29.68 |\n",
       "| 2011-09-10 19:00:00 | 61 | 71 | 71 | 65 | NA   |  6 | 29.97 | 29.94 |\n",
       "| 2012-11-11 08:51:00 | 50 | 78 | 57 | 53 | 0.00 | 10 | 30.51 | 30.49 |\n",
       "| 2014-08-14 20:51:00 | 56 | 55 | 73 | 63 | 0.00 | 15 | 29.87 | 29.84 |\n",
       "| 2010-03-26 04:51:00 | 38 | 79 | 44 | 41 | 0.02 | 23 | 29.68 | 29.66 |\n",
       "| 2015-12-13 07:00:00 | 50 | 83 | 55 | 52 | NA   |  3 | 30.14 | 30.11 |\n",
       "| 2018-06-20 16:51:00 | 66 | 74 | 75 | 69 | 0.00 | 14 | 29.80 | 29.78 |\n",
       "| 2015-03-31 10:00:00 | 21 | 36 | 47 | 37 | NA   | 13 | 29.88 | 29.85 |\n",
       "| 2014-03-30 19:51:00 | 39 | 89 | 42 | 41 | T    | 22 | 29.60 | 29.58 |\n",
       "| 2011-01-21 18:51:00 |  4 | 42 | 24 | 19 | 0.00 | 22 | 29.81 | 29.79 |\n",
       "| ⋮ | ⋮ | ⋮ | ⋮ | ⋮ | ⋮ | ⋮ | ⋮ | ⋮ |\n",
       "| 2012-04-22 08:51:00 | 42 |  71 | 51 | 47 | T    | 13 | 29.79 | 29.77 |\n",
       "| 2011-08-24 16:51:00 | 62 |  62 | 76 | 67 | 0.00 | 21 | 29.99 | 29.97 |\n",
       "| 2010-11-26 06:24:00 | 52 |  94 | 54 | 53 | T    |  8 |    NA | 29.57 |\n",
       "| 2014-08-16 07:51:00 | 53 |  53 | 71 | 61 | 0.00 |  6 | 30.01 | 29.99 |\n",
       "| 2017-08-14 19:51:00 | 72 |  90 | 75 | 73 | 0.00 | 10 | 29.98 | 29.95 |\n",
       "| 2011-06-03 06:51:00 | 38 |  40 | 63 | 51 | 0.00 | 11 | 30.09 | 30.07 |\n",
       "| 2013-01-07 11:51:00 | 23 |  40 | 46 | 37 | 0.00 | 14 | 30.32 | 30.30 |\n",
       "| 2017-09-27 12:51:00 | 72 |  67 | 84 | 76 | 0.00 |  8 | 29.85 | 29.83 |\n",
       "| 2017-06-14 15:51:00 | 60 |  60 | 75 | 66 | 0.00 |  9 | 30.00 | 29.98 |\n",
       "| 2014-05-22 17:51:00 | 54 |  87 | 58 | 56 | 0.02 | 10 | 29.89 | 29.87 |\n",
       "| 2011-12-11 20:51:00 | 19 |  54 | 34 | 29 | 0.00 |  7 | 30.64 | 30.63 |\n",
       "| 2018-05-29 12:51:00 | 67 |  79 | 74 | 69 | 0.00 | 14 | 29.99 | 29.97 |\n",
       "| 2015-09-17 04:00:00 | 60 |  79 | 67 | 63 | NA   |  5 | 30.19 | 30.17 |\n",
       "| 2018-03-08 20:51:00 | 22 |  57 | 36 | 31 | 0.00 | 20 | 29.74 | 29.72 |\n",
       "| 2017-06-09 23:51:00 | 57 |  71 | 67 | 61 | 0.00 |  7 | 29.90 | 29.88 |\n",
       "| 2013-02-10 02:51:00 |  5 |  54 | 19 | 16 | 0.00 |  9 | 30.38 | 30.36 |\n",
       "| 2013-04-20 10:51:00 | 26 |  34 | 54 | 42 | 0.00 | 13 | 30.00 | 29.97 |\n",
       "| 2017-12-28 12:51:00 | -7 |  32 | 18 | 13 | 0.00 | 20 | 30.50 | 30.48 |\n",
       "| 2015-02-09 03:51:00 | 20 |  78 | 26 | 24 | T    | 22 | 29.94 | 29.91 |\n",
       "| 2011-01-22 09:51:00 |  3 |  52 | 18 | 15 | 0.00 |  8 | 30.02 | 30.00 |\n",
       "| 2017-12-23 07:51:00 | 40 | 100 | 40 | 40 | 0.03 |  9 | 30.02 | 30.00 |\n",
       "| 2011-10-21 09:51:00 | 38 |  49 | 57 | 48 | 0.00 | 16 | 29.93 | 29.90 |\n",
       "| 2013-06-20 20:51:00 | 55 |  66 | 67 | 60 | 0.00 | 16 | 30.28 | 30.26 |\n",
       "| 2017-04-01 04:51:00 | 37 |  97 | 38 | 38 | 0.01 | 17 | 29.67 | 29.65 |\n",
       "| 2015-05-26 08:51:00 | 59 |  64 | 72 | 64 | 0.00 |  9 | 30.23 | 30.21 |\n",
       "| 2018-06-05 23:51:00 | 50 |  67 | 61 | 55 | 0.00 |  6 | 29.74 | 29.72 |\n",
       "| 2016-09-20 23:59:00 | NA |  NA | NA | NA | NA   | NA |    NA |    NA |\n",
       "| 2014-04-19 18:51:00 | 34 |  48 | 53 | 44 | 0.00 |  3 | 30.28 | 30.26 |\n",
       "| 2010-01-08 10:51:00 | 25 |  75 | 32 | 29 | 0.00 |  7 | 29.72 | 29.69 |\n",
       "| 2016-01-14 18:51:00 | 22 |  52 | 38 | 32 | 0.00 |  0 | 29.99 | 29.97 |\n",
       "\n"
      ],
      "text/plain": [
       "     DATE                HOURLYDewPointTempF HOURLYRelativeHumidity\n",
       "1    2015-07-25 13:51:00 60                  46                    \n",
       "2    2016-11-18 23:51:00 34                  48                    \n",
       "3    2013-01-06 08:51:00 33                  89                    \n",
       "4    2011-01-27 16:51:00 18                  48                    \n",
       "5    2015-01-03 12:16:00 27                  61                    \n",
       "6    2013-02-15 20:51:00 35                  79                    \n",
       "7    2014-03-01 02:51:00  4                  51                    \n",
       "8    2014-02-12 21:51:00 14                  65                    \n",
       "9    2014-10-11 09:51:00 51                  90                    \n",
       "10   2012-08-09 04:00:00 71                  94                    \n",
       "11   2018-07-17 13:40:00 76                  79                    \n",
       "12   2012-02-04 10:51:00 19                  37                    \n",
       "13   2012-10-28 09:51:00 48                  72                    \n",
       "14   2018-07-12 08:51:00 56                  47                    \n",
       "15   2012-08-27 06:51:00 70                  84                    \n",
       "16   2018-03-23 07:51:00 23                  57                    \n",
       "17   2010-05-05 10:51:00 45                  37                    \n",
       "18   2013-05-18 22:00:00 50                  75                    \n",
       "19   2010-02-16 00:51:00 30                  92                    \n",
       "20   2013-03-30 22:00:00 36                  79                    \n",
       "21   2012-09-18 19:55:00 66                  94                    \n",
       "22   2011-09-10 19:00:00 61                  71                    \n",
       "23   2012-11-11 08:51:00 50                  78                    \n",
       "24   2014-08-14 20:51:00 56                  55                    \n",
       "25   2010-03-26 04:51:00 38                  79                    \n",
       "26   2015-12-13 07:00:00 50                  83                    \n",
       "27   2018-06-20 16:51:00 66                  74                    \n",
       "28   2015-03-31 10:00:00 21                  36                    \n",
       "29   2014-03-30 19:51:00 39                  89                    \n",
       "30   2011-01-21 18:51:00  4                  42                    \n",
       "⋮    ⋮                   ⋮                   ⋮                     \n",
       "5698 2012-04-22 08:51:00 42                   71                   \n",
       "5699 2011-08-24 16:51:00 62                   62                   \n",
       "5700 2010-11-26 06:24:00 52                   94                   \n",
       "5701 2014-08-16 07:51:00 53                   53                   \n",
       "5702 2017-08-14 19:51:00 72                   90                   \n",
       "5703 2011-06-03 06:51:00 38                   40                   \n",
       "5704 2013-01-07 11:51:00 23                   40                   \n",
       "5705 2017-09-27 12:51:00 72                   67                   \n",
       "5706 2017-06-14 15:51:00 60                   60                   \n",
       "5707 2014-05-22 17:51:00 54                   87                   \n",
       "5708 2011-12-11 20:51:00 19                   54                   \n",
       "5709 2018-05-29 12:51:00 67                   79                   \n",
       "5710 2015-09-17 04:00:00 60                   79                   \n",
       "5711 2018-03-08 20:51:00 22                   57                   \n",
       "5712 2017-06-09 23:51:00 57                   71                   \n",
       "5713 2013-02-10 02:51:00  5                   54                   \n",
       "5714 2013-04-20 10:51:00 26                   34                   \n",
       "5715 2017-12-28 12:51:00 -7                   32                   \n",
       "5716 2015-02-09 03:51:00 20                   78                   \n",
       "5717 2011-01-22 09:51:00  3                   52                   \n",
       "5718 2017-12-23 07:51:00 40                  100                   \n",
       "5719 2011-10-21 09:51:00 38                   49                   \n",
       "5720 2013-06-20 20:51:00 55                   66                   \n",
       "5721 2017-04-01 04:51:00 37                   97                   \n",
       "5722 2015-05-26 08:51:00 59                   64                   \n",
       "5723 2018-06-05 23:51:00 50                   67                   \n",
       "5724 2016-09-20 23:59:00 NA                   NA                   \n",
       "5725 2014-04-19 18:51:00 34                   48                   \n",
       "5726 2010-01-08 10:51:00 25                   75                   \n",
       "5727 2016-01-14 18:51:00 22                   52                   \n",
       "     HOURLYDRYBULBTEMPF HOURLYWETBULBTEMPF HOURLYPrecip HOURLYWindSpeed\n",
       "1    83                 68                 0.00         13             \n",
       "2    53                 44                 0.00          6             \n",
       "3    36                 35                 0.00         13             \n",
       "4    36                 30                 0.00         14             \n",
       "5    39                 34                 T            11             \n",
       "6    41                 38                 0.00          6             \n",
       "7    19                 15                 0.00          0             \n",
       "8    24                 21                 0.00         11             \n",
       "9    54                 52                 0.06         11             \n",
       "10   73                 72                 NA            5             \n",
       "11   83                 78                 NA           21             \n",
       "12   44                 35                 0.00          7             \n",
       "13   57                 52                 0.00         17             \n",
       "14   78                 65                 0.00          8             \n",
       "15   75                 72                 0.00          3             \n",
       "16   37                 32                 0.00         11             \n",
       "17   73                 58                 0.00         13             \n",
       "18   58                 54                 NA            9             \n",
       "19   32                 31                 0.03          9             \n",
       "20   42                 39                 NA            3             \n",
       "21   68                 67                 0.03         18             \n",
       "22   71                 65                 NA            6             \n",
       "23   57                 53                 0.00         10             \n",
       "24   73                 63                 0.00         15             \n",
       "25   44                 41                 0.02         23             \n",
       "26   55                 52                 NA            3             \n",
       "27   75                 69                 0.00         14             \n",
       "28   47                 37                 NA           13             \n",
       "29   42                 41                 T            22             \n",
       "30   24                 19                 0.00         22             \n",
       "⋮    ⋮                  ⋮                  ⋮            ⋮              \n",
       "5698 51                 47                 T            13             \n",
       "5699 76                 67                 0.00         21             \n",
       "5700 54                 53                 T             8             \n",
       "5701 71                 61                 0.00          6             \n",
       "5702 75                 73                 0.00         10             \n",
       "5703 63                 51                 0.00         11             \n",
       "5704 46                 37                 0.00         14             \n",
       "5705 84                 76                 0.00          8             \n",
       "5706 75                 66                 0.00          9             \n",
       "5707 58                 56                 0.02         10             \n",
       "5708 34                 29                 0.00          7             \n",
       "5709 74                 69                 0.00         14             \n",
       "5710 67                 63                 NA            5             \n",
       "5711 36                 31                 0.00         20             \n",
       "5712 67                 61                 0.00          7             \n",
       "5713 19                 16                 0.00          9             \n",
       "5714 54                 42                 0.00         13             \n",
       "5715 18                 13                 0.00         20             \n",
       "5716 26                 24                 T            22             \n",
       "5717 18                 15                 0.00          8             \n",
       "5718 40                 40                 0.03          9             \n",
       "5719 57                 48                 0.00         16             \n",
       "5720 67                 60                 0.00         16             \n",
       "5721 38                 38                 0.01         17             \n",
       "5722 72                 64                 0.00          9             \n",
       "5723 61                 55                 0.00          6             \n",
       "5724 NA                 NA                 NA           NA             \n",
       "5725 53                 44                 0.00          3             \n",
       "5726 32                 29                 0.00          7             \n",
       "5727 38                 32                 0.00          0             \n",
       "     HOURLYSeaLevelPressure HOURLYStationPressure\n",
       "1    30.01                  29.99                \n",
       "2    30.05                  30.03                \n",
       "3    30.14                  30.12                \n",
       "4    29.82                  29.80                \n",
       "5       NA                  30.50                \n",
       "6    29.94                  29.92                \n",
       "7    30.42                  30.40                \n",
       "8    30.37                  30.35                \n",
       "9    30.05                  30.03                \n",
       "10   29.94                  29.91                \n",
       "11      NA                  29.75                \n",
       "12   30.27                  30.25                \n",
       "13   29.86                  29.84                \n",
       "14   30.18                  30.16                \n",
       "15   30.19                  30.17                \n",
       "16   30.03                  30.01                \n",
       "17   29.99                  29.96                \n",
       "18   30.31                  30.28                \n",
       "19   29.62                  29.59                \n",
       "20   30.14                  30.10                \n",
       "21      NA                  29.68                \n",
       "22   29.97                  29.94                \n",
       "23   30.51                  30.49                \n",
       "24   29.87                  29.84                \n",
       "25   29.68                  29.66                \n",
       "26   30.14                  30.11                \n",
       "27   29.80                  29.78                \n",
       "28   29.88                  29.85                \n",
       "29   29.60                  29.58                \n",
       "30   29.81                  29.79                \n",
       "⋮    ⋮                      ⋮                    \n",
       "5698 29.79                  29.77                \n",
       "5699 29.99                  29.97                \n",
       "5700    NA                  29.57                \n",
       "5701 30.01                  29.99                \n",
       "5702 29.98                  29.95                \n",
       "5703 30.09                  30.07                \n",
       "5704 30.32                  30.30                \n",
       "5705 29.85                  29.83                \n",
       "5706 30.00                  29.98                \n",
       "5707 29.89                  29.87                \n",
       "5708 30.64                  30.63                \n",
       "5709 29.99                  29.97                \n",
       "5710 30.19                  30.17                \n",
       "5711 29.74                  29.72                \n",
       "5712 29.90                  29.88                \n",
       "5713 30.38                  30.36                \n",
       "5714 30.00                  29.97                \n",
       "5715 30.50                  30.48                \n",
       "5716 29.94                  29.91                \n",
       "5717 30.02                  30.00                \n",
       "5718 30.02                  30.00                \n",
       "5719 29.93                  29.90                \n",
       "5720 30.28                  30.26                \n",
       "5721 29.67                  29.65                \n",
       "5722 30.23                  30.21                \n",
       "5723 29.74                  29.72                \n",
       "5724    NA                     NA                \n",
       "5725 30.28                  30.26                \n",
       "5726 29.72                  29.69                \n",
       "5727 29.99                  29.97                "
      ]
     },
     "metadata": {},
     "output_type": "display_data"
    }
   ],
   "source": [
    "# read_csv only \n",
    "read_csv(\"noaa-weather-sample-data/jfk_weather_sample.csv\")"
   ]
  },
  {
   "cell_type": "markdown",
   "metadata": {},
   "source": [
    "Next, display the first few rows of the dataframe.\n"
   ]
  },
  {
   "cell_type": "code",
   "execution_count": 6,
   "metadata": {
    "tags": []
   },
   "outputs": [
    {
     "name": "stderr",
     "output_type": "stream",
     "text": [
      "Parsed with column specification:\n",
      "cols(\n",
      "  DATE = col_datetime(format = \"\"),\n",
      "  HOURLYDewPointTempF = col_double(),\n",
      "  HOURLYRelativeHumidity = col_double(),\n",
      "  HOURLYDRYBULBTEMPF = col_double(),\n",
      "  HOURLYWETBULBTEMPF = col_double(),\n",
      "  HOURLYPrecip = col_character(),\n",
      "  HOURLYWindSpeed = col_double(),\n",
      "  HOURLYSeaLevelPressure = col_double(),\n",
      "  HOURLYStationPressure = col_double()\n",
      ")\n",
      "Warning message:\n",
      "“1 parsing failure.\n",
      " row                 col               expected actual                                              file\n",
      "1443 HOURLYDewPointTempF no trailing characters      s 'noaa-weather-sample-data/jfk_weather_sample.csv'\n",
      "”"
     ]
    },
    {
     "data": {
      "text/html": [
       "<table>\n",
       "<caption>A tibble: 6 × 9</caption>\n",
       "<thead>\n",
       "\t<tr><th scope=col>DATE</th><th scope=col>HOURLYDewPointTempF</th><th scope=col>HOURLYRelativeHumidity</th><th scope=col>HOURLYDRYBULBTEMPF</th><th scope=col>HOURLYWETBULBTEMPF</th><th scope=col>HOURLYPrecip</th><th scope=col>HOURLYWindSpeed</th><th scope=col>HOURLYSeaLevelPressure</th><th scope=col>HOURLYStationPressure</th></tr>\n",
       "\t<tr><th scope=col>&lt;dttm&gt;</th><th scope=col>&lt;dbl&gt;</th><th scope=col>&lt;dbl&gt;</th><th scope=col>&lt;dbl&gt;</th><th scope=col>&lt;dbl&gt;</th><th scope=col>&lt;chr&gt;</th><th scope=col>&lt;dbl&gt;</th><th scope=col>&lt;dbl&gt;</th><th scope=col>&lt;dbl&gt;</th></tr>\n",
       "</thead>\n",
       "<tbody>\n",
       "\t<tr><td>2015-07-25 13:51:00</td><td>60</td><td>46</td><td>83</td><td>68</td><td>0.00</td><td>13</td><td>30.01</td><td>29.99</td></tr>\n",
       "\t<tr><td>2016-11-18 23:51:00</td><td>34</td><td>48</td><td>53</td><td>44</td><td>0.00</td><td> 6</td><td>30.05</td><td>30.03</td></tr>\n",
       "\t<tr><td>2013-01-06 08:51:00</td><td>33</td><td>89</td><td>36</td><td>35</td><td>0.00</td><td>13</td><td>30.14</td><td>30.12</td></tr>\n",
       "\t<tr><td>2011-01-27 16:51:00</td><td>18</td><td>48</td><td>36</td><td>30</td><td>0.00</td><td>14</td><td>29.82</td><td>29.80</td></tr>\n",
       "\t<tr><td>2015-01-03 12:16:00</td><td>27</td><td>61</td><td>39</td><td>34</td><td>T   </td><td>11</td><td>   NA</td><td>30.50</td></tr>\n",
       "\t<tr><td>2013-02-15 20:51:00</td><td>35</td><td>79</td><td>41</td><td>38</td><td>0.00</td><td> 6</td><td>29.94</td><td>29.92</td></tr>\n",
       "</tbody>\n",
       "</table>\n"
      ],
      "text/latex": [
       "A tibble: 6 × 9\n",
       "\\begin{tabular}{lllllllll}\n",
       " DATE & HOURLYDewPointTempF & HOURLYRelativeHumidity & HOURLYDRYBULBTEMPF & HOURLYWETBULBTEMPF & HOURLYPrecip & HOURLYWindSpeed & HOURLYSeaLevelPressure & HOURLYStationPressure\\\\\n",
       " <dttm> & <dbl> & <dbl> & <dbl> & <dbl> & <chr> & <dbl> & <dbl> & <dbl>\\\\\n",
       "\\hline\n",
       "\t 2015-07-25 13:51:00 & 60 & 46 & 83 & 68 & 0.00 & 13 & 30.01 & 29.99\\\\\n",
       "\t 2016-11-18 23:51:00 & 34 & 48 & 53 & 44 & 0.00 &  6 & 30.05 & 30.03\\\\\n",
       "\t 2013-01-06 08:51:00 & 33 & 89 & 36 & 35 & 0.00 & 13 & 30.14 & 30.12\\\\\n",
       "\t 2011-01-27 16:51:00 & 18 & 48 & 36 & 30 & 0.00 & 14 & 29.82 & 29.80\\\\\n",
       "\t 2015-01-03 12:16:00 & 27 & 61 & 39 & 34 & T    & 11 &    NA & 30.50\\\\\n",
       "\t 2013-02-15 20:51:00 & 35 & 79 & 41 & 38 & 0.00 &  6 & 29.94 & 29.92\\\\\n",
       "\\end{tabular}\n"
      ],
      "text/markdown": [
       "\n",
       "A tibble: 6 × 9\n",
       "\n",
       "| DATE &lt;dttm&gt; | HOURLYDewPointTempF &lt;dbl&gt; | HOURLYRelativeHumidity &lt;dbl&gt; | HOURLYDRYBULBTEMPF &lt;dbl&gt; | HOURLYWETBULBTEMPF &lt;dbl&gt; | HOURLYPrecip &lt;chr&gt; | HOURLYWindSpeed &lt;dbl&gt; | HOURLYSeaLevelPressure &lt;dbl&gt; | HOURLYStationPressure &lt;dbl&gt; |\n",
       "|---|---|---|---|---|---|---|---|---|\n",
       "| 2015-07-25 13:51:00 | 60 | 46 | 83 | 68 | 0.00 | 13 | 30.01 | 29.99 |\n",
       "| 2016-11-18 23:51:00 | 34 | 48 | 53 | 44 | 0.00 |  6 | 30.05 | 30.03 |\n",
       "| 2013-01-06 08:51:00 | 33 | 89 | 36 | 35 | 0.00 | 13 | 30.14 | 30.12 |\n",
       "| 2011-01-27 16:51:00 | 18 | 48 | 36 | 30 | 0.00 | 14 | 29.82 | 29.80 |\n",
       "| 2015-01-03 12:16:00 | 27 | 61 | 39 | 34 | T    | 11 |    NA | 30.50 |\n",
       "| 2013-02-15 20:51:00 | 35 | 79 | 41 | 38 | 0.00 |  6 | 29.94 | 29.92 |\n",
       "\n"
      ],
      "text/plain": [
       "  DATE                HOURLYDewPointTempF HOURLYRelativeHumidity\n",
       "1 2015-07-25 13:51:00 60                  46                    \n",
       "2 2016-11-18 23:51:00 34                  48                    \n",
       "3 2013-01-06 08:51:00 33                  89                    \n",
       "4 2011-01-27 16:51:00 18                  48                    \n",
       "5 2015-01-03 12:16:00 27                  61                    \n",
       "6 2013-02-15 20:51:00 35                  79                    \n",
       "  HOURLYDRYBULBTEMPF HOURLYWETBULBTEMPF HOURLYPrecip HOURLYWindSpeed\n",
       "1 83                 68                 0.00         13             \n",
       "2 53                 44                 0.00          6             \n",
       "3 36                 35                 0.00         13             \n",
       "4 36                 30                 0.00         14             \n",
       "5 39                 34                 T            11             \n",
       "6 41                 38                 0.00          6             \n",
       "  HOURLYSeaLevelPressure HOURLYStationPressure\n",
       "1 30.01                  29.99                \n",
       "2 30.05                  30.03                \n",
       "3 30.14                  30.12                \n",
       "4 29.82                  29.80                \n",
       "5    NA                  30.50                \n",
       "6 29.94                  29.92                "
      ]
     },
     "metadata": {},
     "output_type": "display_data"
    }
   ],
   "source": [
    "main_weather <- read_csv(\"noaa-weather-sample-data/jfk_weather_sample.csv\")\n",
    "head(main_weather)"
   ]
  },
  {
   "cell_type": "markdown",
   "metadata": {},
   "source": [
    "Also, take a `glimpse` of the dataset to see the different column data types and make sure it is the correct subset dataset with about 5700 rows and 9 columns.\n"
   ]
  },
  {
   "cell_type": "code",
   "execution_count": 7,
   "metadata": {
    "tags": []
   },
   "outputs": [
    {
     "name": "stdout",
     "output_type": "stream",
     "text": [
      "Rows: 5,727\n",
      "Columns: 9\n",
      "$ DATE                   <dttm> 2015-07-25 13:51:00, 2016-11-18 23:51:00, 201…\n",
      "$ HOURLYDewPointTempF    <dbl> 60, 34, 33, 18, 27, 35, 4, 14, 51, 71, 76, 19,…\n",
      "$ HOURLYRelativeHumidity <dbl> 46, 48, 89, 48, 61, 79, 51, 65, 90, 94, 79, 37…\n",
      "$ HOURLYDRYBULBTEMPF     <dbl> 83, 53, 36, 36, 39, 41, 19, 24, 54, 73, 83, 44…\n",
      "$ HOURLYWETBULBTEMPF     <dbl> 68, 44, 35, 30, 34, 38, 15, 21, 52, 72, 78, 35…\n",
      "$ HOURLYPrecip           <chr> \"0.00\", \"0.00\", \"0.00\", \"0.00\", \"T\", \"0.00\", \"…\n",
      "$ HOURLYWindSpeed        <dbl> 13, 6, 13, 14, 11, 6, 0, 11, 11, 5, 21, 7, 17,…\n",
      "$ HOURLYSeaLevelPressure <dbl> 30.01, 30.05, 30.14, 29.82, NA, 29.94, 30.42, …\n",
      "$ HOURLYStationPressure  <dbl> 29.99, 30.03, 30.12, 29.80, 30.50, 29.92, 30.4…\n"
     ]
    }
   ],
   "source": [
    "glimpse(main_weather)"
   ]
  },
  {
   "cell_type": "markdown",
   "metadata": {},
   "source": [
    "<a id=\"cell3\"></a>\n",
    "## 3. Select Subset of Columns\n",
    "\n",
    "The end goal of this project will be to predict `HOURLYprecip` (precipitation) using a few other variables. Before you can do this, you first need to preprocess the dataset. Section 3 to section 6 focuses on preprocessing.\n",
    "\n",
    "The first step in preprocessing is to select a subset of data columns and inspect the column types.\n",
    "\n",
    "The key columns that we will explore in this project are:\n",
    "- HOURLYRelativeHumidity\n",
    "- HOURLYDRYBULBTEMPF\n",
    "- HOURLYPrecip\n",
    "- HOURLYWindSpeed\n",
    "- HOURLYStationPressure\n",
    "\n",
    "Data Glossary:\n",
    "- 'HOURLYRelativeHumidity' is the relative humidity given to the nearest whole percentage.\n",
    "- 'HOURLYDRYBULBTEMPF' is the dry-bulb temperature and is commonly used as the standard air temperature reported. It is given here in whole degrees Fahrenheit.\n",
    "- 'HOURLYPrecip' is the amount of precipitation in inches to hundredths over the past hour. For certain automated stations, precipitation will be reported at sub-hourly intervals (e.g. every 15 or 20 minutes) as an accumulated amount of all precipitation within the preceding hour. A “T” indicates a trace amount of precipitation.\n",
    "- 'HOURLYWindSpeed' is the speed of the wind at the time of observation given in miles per hour (mph).\n",
    "- 'HOURLYStationPressure' is the atmospheric pressure observed at the station during the time of observation. Given in inches of Mercury (in Hg).\n",
    "\n",
    "`Select` those five columns and store the modified dataframe as a new variable.\n"
   ]
  },
  {
   "cell_type": "code",
   "execution_count": 8,
   "metadata": {
    "tags": []
   },
   "outputs": [],
   "source": [
    "sub_weather <- main_weather %>% select(HOURLYRelativeHumidity, HOURLYDRYBULBTEMPF, HOURLYPrecip, HOURLYWindSpeed, HOURLYStationPressure)"
   ]
  },
  {
   "cell_type": "markdown",
   "metadata": {},
   "source": [
    "Show the first 10 rows of this new dataframe.\n"
   ]
  },
  {
   "cell_type": "code",
   "execution_count": 9,
   "metadata": {
    "tags": []
   },
   "outputs": [
    {
     "data": {
      "text/html": [
       "<table>\n",
       "<caption>A tibble: 10 × 5</caption>\n",
       "<thead>\n",
       "\t<tr><th scope=col>HOURLYRelativeHumidity</th><th scope=col>HOURLYDRYBULBTEMPF</th><th scope=col>HOURLYPrecip</th><th scope=col>HOURLYWindSpeed</th><th scope=col>HOURLYStationPressure</th></tr>\n",
       "\t<tr><th scope=col>&lt;dbl&gt;</th><th scope=col>&lt;dbl&gt;</th><th scope=col>&lt;chr&gt;</th><th scope=col>&lt;dbl&gt;</th><th scope=col>&lt;dbl&gt;</th></tr>\n",
       "</thead>\n",
       "<tbody>\n",
       "\t<tr><td>46</td><td>83</td><td>0.00</td><td>13</td><td>29.99</td></tr>\n",
       "\t<tr><td>48</td><td>53</td><td>0.00</td><td> 6</td><td>30.03</td></tr>\n",
       "\t<tr><td>89</td><td>36</td><td>0.00</td><td>13</td><td>30.12</td></tr>\n",
       "\t<tr><td>48</td><td>36</td><td>0.00</td><td>14</td><td>29.80</td></tr>\n",
       "\t<tr><td>61</td><td>39</td><td>T   </td><td>11</td><td>30.50</td></tr>\n",
       "\t<tr><td>79</td><td>41</td><td>0.00</td><td> 6</td><td>29.92</td></tr>\n",
       "\t<tr><td>51</td><td>19</td><td>0.00</td><td> 0</td><td>30.40</td></tr>\n",
       "\t<tr><td>65</td><td>24</td><td>0.00</td><td>11</td><td>30.35</td></tr>\n",
       "\t<tr><td>90</td><td>54</td><td>0.06</td><td>11</td><td>30.03</td></tr>\n",
       "\t<tr><td>94</td><td>73</td><td>NA  </td><td> 5</td><td>29.91</td></tr>\n",
       "</tbody>\n",
       "</table>\n"
      ],
      "text/latex": [
       "A tibble: 10 × 5\n",
       "\\begin{tabular}{lllll}\n",
       " HOURLYRelativeHumidity & HOURLYDRYBULBTEMPF & HOURLYPrecip & HOURLYWindSpeed & HOURLYStationPressure\\\\\n",
       " <dbl> & <dbl> & <chr> & <dbl> & <dbl>\\\\\n",
       "\\hline\n",
       "\t 46 & 83 & 0.00 & 13 & 29.99\\\\\n",
       "\t 48 & 53 & 0.00 &  6 & 30.03\\\\\n",
       "\t 89 & 36 & 0.00 & 13 & 30.12\\\\\n",
       "\t 48 & 36 & 0.00 & 14 & 29.80\\\\\n",
       "\t 61 & 39 & T    & 11 & 30.50\\\\\n",
       "\t 79 & 41 & 0.00 &  6 & 29.92\\\\\n",
       "\t 51 & 19 & 0.00 &  0 & 30.40\\\\\n",
       "\t 65 & 24 & 0.00 & 11 & 30.35\\\\\n",
       "\t 90 & 54 & 0.06 & 11 & 30.03\\\\\n",
       "\t 94 & 73 & NA   &  5 & 29.91\\\\\n",
       "\\end{tabular}\n"
      ],
      "text/markdown": [
       "\n",
       "A tibble: 10 × 5\n",
       "\n",
       "| HOURLYRelativeHumidity &lt;dbl&gt; | HOURLYDRYBULBTEMPF &lt;dbl&gt; | HOURLYPrecip &lt;chr&gt; | HOURLYWindSpeed &lt;dbl&gt; | HOURLYStationPressure &lt;dbl&gt; |\n",
       "|---|---|---|---|---|\n",
       "| 46 | 83 | 0.00 | 13 | 29.99 |\n",
       "| 48 | 53 | 0.00 |  6 | 30.03 |\n",
       "| 89 | 36 | 0.00 | 13 | 30.12 |\n",
       "| 48 | 36 | 0.00 | 14 | 29.80 |\n",
       "| 61 | 39 | T    | 11 | 30.50 |\n",
       "| 79 | 41 | 0.00 |  6 | 29.92 |\n",
       "| 51 | 19 | 0.00 |  0 | 30.40 |\n",
       "| 65 | 24 | 0.00 | 11 | 30.35 |\n",
       "| 90 | 54 | 0.06 | 11 | 30.03 |\n",
       "| 94 | 73 | NA   |  5 | 29.91 |\n",
       "\n"
      ],
      "text/plain": [
       "   HOURLYRelativeHumidity HOURLYDRYBULBTEMPF HOURLYPrecip HOURLYWindSpeed\n",
       "1  46                     83                 0.00         13             \n",
       "2  48                     53                 0.00          6             \n",
       "3  89                     36                 0.00         13             \n",
       "4  48                     36                 0.00         14             \n",
       "5  61                     39                 T            11             \n",
       "6  79                     41                 0.00          6             \n",
       "7  51                     19                 0.00          0             \n",
       "8  65                     24                 0.00         11             \n",
       "9  90                     54                 0.06         11             \n",
       "10 94                     73                 NA            5             \n",
       "   HOURLYStationPressure\n",
       "1  29.99                \n",
       "2  30.03                \n",
       "3  30.12                \n",
       "4  29.80                \n",
       "5  30.50                \n",
       "6  29.92                \n",
       "7  30.40                \n",
       "8  30.35                \n",
       "9  30.03                \n",
       "10 29.91                "
      ]
     },
     "metadata": {},
     "output_type": "display_data"
    }
   ],
   "source": [
    "head(sub_weather,10)"
   ]
  },
  {
   "cell_type": "markdown",
   "metadata": {},
   "source": [
    "<a id=\"cell4\"></a>\n",
    "## 4. Clean Up Columns\n",
    "\n",
    "From the dataframe preview above, we can see that the column `HOURLYPrecip` - which is the hourly measure of precipitation levels - contains both `NA` and `T` values. `T` specifies *trace amounts of precipitation* (meaning essentially no precipitation), while `NA` means *not available*, and is used to denote missing values. Additionally, some values also have \"s\" at the end of them, indicating that the precipitation was snow. \n",
    "\n",
    "Inspect the unique values present in the column `HOURLYPrecip` (with `unique(dataframe$column)`) to see these values.\n"
   ]
  },
  {
   "cell_type": "code",
   "execution_count": 10,
   "metadata": {
    "tags": []
   },
   "outputs": [
    {
     "data": {
      "text/html": [
       "<style>\n",
       ".list-inline {list-style: none; margin:0; padding: 0}\n",
       ".list-inline>li {display: inline-block}\n",
       ".list-inline>li:not(:last-child)::after {content: \"\\00b7\"; padding: 0 .5ex}\n",
       "</style>\n",
       "<ol class=list-inline><li>'0.00'</li><li>'T'</li><li>'0.06'</li><li>NA</li><li>'0.03'</li><li>'0.02'</li><li>'0.08'</li><li>'0.01'</li><li>'0.07'</li><li>'0.16'</li><li>'0.09'</li><li>'0.22'</li><li>'0.02s'</li><li>'0.24'</li><li>'0.18'</li><li>'0.05'</li><li>'0.04'</li><li>'0.09s'</li><li>'0.11'</li><li>'0.14'</li><li>'0.25'</li><li>'0.10'</li><li>'0.01s'</li><li>'0.58'</li><li>'0.12'</li><li>'0.13'</li><li>'0.46'</li><li>'1.07'</li><li>'1.19'</li><li>'0.34'</li><li>'0.20'</li><li>'0.36s'</li><li>'0.42'</li><li>'0.17'</li><li>'0.27'</li><li>'0.35'</li><li>'0.31'</li><li>'0.33'</li><li>'0.23'</li><li>'0.26'</li><li>'0.28'</li><li>'0.75'</li><li>'0.19'</li><li>'0.36'</li><li>'0.03s'</li><li>'0.07s'</li><li>'0.54'</li><li>'0.59'</li><li>'0.21'</li></ol>\n"
      ],
      "text/latex": [
       "\\begin{enumerate*}\n",
       "\\item '0.00'\n",
       "\\item 'T'\n",
       "\\item '0.06'\n",
       "\\item NA\n",
       "\\item '0.03'\n",
       "\\item '0.02'\n",
       "\\item '0.08'\n",
       "\\item '0.01'\n",
       "\\item '0.07'\n",
       "\\item '0.16'\n",
       "\\item '0.09'\n",
       "\\item '0.22'\n",
       "\\item '0.02s'\n",
       "\\item '0.24'\n",
       "\\item '0.18'\n",
       "\\item '0.05'\n",
       "\\item '0.04'\n",
       "\\item '0.09s'\n",
       "\\item '0.11'\n",
       "\\item '0.14'\n",
       "\\item '0.25'\n",
       "\\item '0.10'\n",
       "\\item '0.01s'\n",
       "\\item '0.58'\n",
       "\\item '0.12'\n",
       "\\item '0.13'\n",
       "\\item '0.46'\n",
       "\\item '1.07'\n",
       "\\item '1.19'\n",
       "\\item '0.34'\n",
       "\\item '0.20'\n",
       "\\item '0.36s'\n",
       "\\item '0.42'\n",
       "\\item '0.17'\n",
       "\\item '0.27'\n",
       "\\item '0.35'\n",
       "\\item '0.31'\n",
       "\\item '0.33'\n",
       "\\item '0.23'\n",
       "\\item '0.26'\n",
       "\\item '0.28'\n",
       "\\item '0.75'\n",
       "\\item '0.19'\n",
       "\\item '0.36'\n",
       "\\item '0.03s'\n",
       "\\item '0.07s'\n",
       "\\item '0.54'\n",
       "\\item '0.59'\n",
       "\\item '0.21'\n",
       "\\end{enumerate*}\n"
      ],
      "text/markdown": [
       "1. '0.00'\n",
       "2. 'T'\n",
       "3. '0.06'\n",
       "4. NA\n",
       "5. '0.03'\n",
       "6. '0.02'\n",
       "7. '0.08'\n",
       "8. '0.01'\n",
       "9. '0.07'\n",
       "10. '0.16'\n",
       "11. '0.09'\n",
       "12. '0.22'\n",
       "13. '0.02s'\n",
       "14. '0.24'\n",
       "15. '0.18'\n",
       "16. '0.05'\n",
       "17. '0.04'\n",
       "18. '0.09s'\n",
       "19. '0.11'\n",
       "20. '0.14'\n",
       "21. '0.25'\n",
       "22. '0.10'\n",
       "23. '0.01s'\n",
       "24. '0.58'\n",
       "25. '0.12'\n",
       "26. '0.13'\n",
       "27. '0.46'\n",
       "28. '1.07'\n",
       "29. '1.19'\n",
       "30. '0.34'\n",
       "31. '0.20'\n",
       "32. '0.36s'\n",
       "33. '0.42'\n",
       "34. '0.17'\n",
       "35. '0.27'\n",
       "36. '0.35'\n",
       "37. '0.31'\n",
       "38. '0.33'\n",
       "39. '0.23'\n",
       "40. '0.26'\n",
       "41. '0.28'\n",
       "42. '0.75'\n",
       "43. '0.19'\n",
       "44. '0.36'\n",
       "45. '0.03s'\n",
       "46. '0.07s'\n",
       "47. '0.54'\n",
       "48. '0.59'\n",
       "49. '0.21'\n",
       "\n",
       "\n"
      ],
      "text/plain": [
       " [1] \"0.00\"  \"T\"     \"0.06\"  NA      \"0.03\"  \"0.02\"  \"0.08\"  \"0.01\"  \"0.07\" \n",
       "[10] \"0.16\"  \"0.09\"  \"0.22\"  \"0.02s\" \"0.24\"  \"0.18\"  \"0.05\"  \"0.04\"  \"0.09s\"\n",
       "[19] \"0.11\"  \"0.14\"  \"0.25\"  \"0.10\"  \"0.01s\" \"0.58\"  \"0.12\"  \"0.13\"  \"0.46\" \n",
       "[28] \"1.07\"  \"1.19\"  \"0.34\"  \"0.20\"  \"0.36s\" \"0.42\"  \"0.17\"  \"0.27\"  \"0.35\" \n",
       "[37] \"0.31\"  \"0.33\"  \"0.23\"  \"0.26\"  \"0.28\"  \"0.75\"  \"0.19\"  \"0.36\"  \"0.03s\"\n",
       "[46] \"0.07s\" \"0.54\"  \"0.59\"  \"0.21\" "
      ]
     },
     "metadata": {},
     "output_type": "display_data"
    }
   ],
   "source": [
    "unique(sub_weather$HOURLYPrecip)"
   ]
  },
  {
   "cell_type": "markdown",
   "metadata": {},
   "source": [
    "Having characters in values (like the \"T\" and \"s\" that you see in the unique values) will cause problems when you create a model because values for precipitation should be numerical. So you need to fix these values that have characters. \n",
    "\n",
    "Now, for the column `HOURLYPrecip`:\n",
    "1. Replace all the `T` values with \"0.0\" and \n",
    "2. Remove \"s\" from values like \"0.02s\". In R, you can use the method `str_remove(column, pattern = \"s$\")` to remove the character \"s\" from the end of values. The \"$\" tells R to match to the end of values. The `pattern` is a regex pattern. Look at [here](https://www.rdocumentation.org/packages/stringi/versions/1.5.3/topics/about_search_regex) for more information about regex and matching to strings in R.\n",
    "\n",
    "Remember that you can use `tidyverse`'s  `mutate()` to update columns.\n",
    "\n",
    "You can check your work by checking if unique values of `HOURLYPrecip` still contain any `T` or `s`. Store the modified dataframe as a new variable.\n"
   ]
  },
  {
   "cell_type": "code",
   "execution_count": 11,
   "metadata": {
    "tags": []
   },
   "outputs": [
    {
     "data": {
      "text/html": [
       "<style>\n",
       ".list-inline {list-style: none; margin:0; padding: 0}\n",
       ".list-inline>li {display: inline-block}\n",
       ".list-inline>li:not(:last-child)::after {content: \"\\00b7\"; padding: 0 .5ex}\n",
       "</style>\n",
       "<ol class=list-inline><li>'0.00'</li><li>'0.0'</li><li>'0.06'</li><li>'0.03'</li><li>'0.02'</li><li>'0.08'</li><li>'0.01'</li><li>'0.07'</li><li>'0.16'</li><li>'0.09'</li><li>'0.22'</li><li>'0.24'</li><li>'0.18'</li><li>'0.05'</li><li>'0.04'</li><li>'0.11'</li><li>'0.14'</li><li>'0.25'</li><li>'0.10'</li><li>'0.58'</li><li>'0.12'</li><li>'0.13'</li><li>'0.46'</li><li>'1.07'</li><li>'1.19'</li><li>'0.34'</li><li>'0.20'</li><li>'0.36'</li><li>'0.42'</li><li>'0.17'</li><li>'0.27'</li><li>'0.35'</li><li>'0.31'</li><li>'0.33'</li><li>'0.23'</li><li>'0.26'</li><li>'0.28'</li><li>'0.75'</li><li>'0.19'</li><li>'0.54'</li><li>'0.59'</li><li>'0.21'</li></ol>\n"
      ],
      "text/latex": [
       "\\begin{enumerate*}\n",
       "\\item '0.00'\n",
       "\\item '0.0'\n",
       "\\item '0.06'\n",
       "\\item '0.03'\n",
       "\\item '0.02'\n",
       "\\item '0.08'\n",
       "\\item '0.01'\n",
       "\\item '0.07'\n",
       "\\item '0.16'\n",
       "\\item '0.09'\n",
       "\\item '0.22'\n",
       "\\item '0.24'\n",
       "\\item '0.18'\n",
       "\\item '0.05'\n",
       "\\item '0.04'\n",
       "\\item '0.11'\n",
       "\\item '0.14'\n",
       "\\item '0.25'\n",
       "\\item '0.10'\n",
       "\\item '0.58'\n",
       "\\item '0.12'\n",
       "\\item '0.13'\n",
       "\\item '0.46'\n",
       "\\item '1.07'\n",
       "\\item '1.19'\n",
       "\\item '0.34'\n",
       "\\item '0.20'\n",
       "\\item '0.36'\n",
       "\\item '0.42'\n",
       "\\item '0.17'\n",
       "\\item '0.27'\n",
       "\\item '0.35'\n",
       "\\item '0.31'\n",
       "\\item '0.33'\n",
       "\\item '0.23'\n",
       "\\item '0.26'\n",
       "\\item '0.28'\n",
       "\\item '0.75'\n",
       "\\item '0.19'\n",
       "\\item '0.54'\n",
       "\\item '0.59'\n",
       "\\item '0.21'\n",
       "\\end{enumerate*}\n"
      ],
      "text/markdown": [
       "1. '0.00'\n",
       "2. '0.0'\n",
       "3. '0.06'\n",
       "4. '0.03'\n",
       "5. '0.02'\n",
       "6. '0.08'\n",
       "7. '0.01'\n",
       "8. '0.07'\n",
       "9. '0.16'\n",
       "10. '0.09'\n",
       "11. '0.22'\n",
       "12. '0.24'\n",
       "13. '0.18'\n",
       "14. '0.05'\n",
       "15. '0.04'\n",
       "16. '0.11'\n",
       "17. '0.14'\n",
       "18. '0.25'\n",
       "19. '0.10'\n",
       "20. '0.58'\n",
       "21. '0.12'\n",
       "22. '0.13'\n",
       "23. '0.46'\n",
       "24. '1.07'\n",
       "25. '1.19'\n",
       "26. '0.34'\n",
       "27. '0.20'\n",
       "28. '0.36'\n",
       "29. '0.42'\n",
       "30. '0.17'\n",
       "31. '0.27'\n",
       "32. '0.35'\n",
       "33. '0.31'\n",
       "34. '0.33'\n",
       "35. '0.23'\n",
       "36. '0.26'\n",
       "37. '0.28'\n",
       "38. '0.75'\n",
       "39. '0.19'\n",
       "40. '0.54'\n",
       "41. '0.59'\n",
       "42. '0.21'\n",
       "\n",
       "\n"
      ],
      "text/plain": [
       " [1] \"0.00\" \"0.0\"  \"0.06\" \"0.03\" \"0.02\" \"0.08\" \"0.01\" \"0.07\" \"0.16\" \"0.09\"\n",
       "[11] \"0.22\" \"0.24\" \"0.18\" \"0.05\" \"0.04\" \"0.11\" \"0.14\" \"0.25\" \"0.10\" \"0.58\"\n",
       "[21] \"0.12\" \"0.13\" \"0.46\" \"1.07\" \"1.19\" \"0.34\" \"0.20\" \"0.36\" \"0.42\" \"0.17\"\n",
       "[31] \"0.27\" \"0.35\" \"0.31\" \"0.33\" \"0.23\" \"0.26\" \"0.28\" \"0.75\" \"0.19\" \"0.54\"\n",
       "[41] \"0.59\" \"0.21\""
      ]
     },
     "metadata": {},
     "output_type": "display_data"
    }
   ],
   "source": [
    "sub_weather <- sub_weather %>%\n",
    "mutate(HOURLYPrecip = str_replace(HOURLYPrecip,\"T\",\"0.0\")) %>%\n",
    "mutate(HOURLYPrecip = str_replace(HOURLYPrecip,pattern = \"s$\",\"\")) %>%\n",
    "replace_na(list(HOURLYPrecip= \"0.0\",HOURLYRelativeHumidity = 0, HOURLYDRYBULBTEMPF = 0, HOURLYWindSpeed = 0, HOURLYStationPressure = 0))\n",
    "unique(sub_weather$HOURLYPrecip)"
   ]
  },
  {
   "cell_type": "markdown",
   "metadata": {},
   "source": [
    "<a id=\"cell5\"></a>\n",
    "## 5. Convert Columns to Numerical Types\n",
    "Now that you have removed the characters in the `HOURLYPrecip` column, you can safely covert the column to a numeric type.\n",
    "\n",
    "First, check the types of the columns. You will notice that all are `dbl` (double or numeric) except for `HOURLYPrecip`, which is `chr` (character or string). Use the `glimpse` function from Tidyverse.\n"
   ]
  },
  {
   "cell_type": "code",
   "execution_count": 12,
   "metadata": {
    "tags": []
   },
   "outputs": [
    {
     "name": "stdout",
     "output_type": "stream",
     "text": [
      "Rows: 5,727\n",
      "Columns: 5\n",
      "$ HOURLYRelativeHumidity <dbl> 46, 48, 89, 48, 61, 79, 51, 65, 90, 94, 79, 37…\n",
      "$ HOURLYDRYBULBTEMPF     <dbl> 83, 53, 36, 36, 39, 41, 19, 24, 54, 73, 83, 44…\n",
      "$ HOURLYPrecip           <chr> \"0.00\", \"0.00\", \"0.00\", \"0.00\", \"0.0\", \"0.00\",…\n",
      "$ HOURLYWindSpeed        <dbl> 13, 6, 13, 14, 11, 6, 0, 11, 11, 5, 21, 7, 17,…\n",
      "$ HOURLYStationPressure  <dbl> 29.99, 30.03, 30.12, 29.80, 30.50, 29.92, 30.4…\n"
     ]
    }
   ],
   "source": [
    "glimpse(sub_weather)"
   ]
  },
  {
   "cell_type": "markdown",
   "metadata": {},
   "source": [
    "Convert `HOURLYPrecip` to the `numeric` type and store the cleaned dataframe as a new variable.\n"
   ]
  },
  {
   "cell_type": "code",
   "execution_count": 13,
   "metadata": {
    "tags": []
   },
   "outputs": [],
   "source": [
    "new_sub_weather <- sub_weather %>%\n",
    "mutate(HOURLYPrecip = as.numeric(HOURLYPrecip))"
   ]
  },
  {
   "cell_type": "markdown",
   "metadata": {},
   "source": [
    "We can now see that all fields have numerical data type.\n"
   ]
  },
  {
   "cell_type": "code",
   "execution_count": 14,
   "metadata": {
    "tags": []
   },
   "outputs": [
    {
     "name": "stdout",
     "output_type": "stream",
     "text": [
      "Rows: 5,727\n",
      "Columns: 5\n",
      "$ HOURLYRelativeHumidity <dbl> 46, 48, 89, 48, 61, 79, 51, 65, 90, 94, 79, 37…\n",
      "$ HOURLYDRYBULBTEMPF     <dbl> 83, 53, 36, 36, 39, 41, 19, 24, 54, 73, 83, 44…\n",
      "$ HOURLYPrecip           <dbl> 0.00, 0.00, 0.00, 0.00, 0.00, 0.00, 0.00, 0.00…\n",
      "$ HOURLYWindSpeed        <dbl> 13, 6, 13, 14, 11, 6, 0, 11, 11, 5, 21, 7, 17,…\n",
      "$ HOURLYStationPressure  <dbl> 29.99, 30.03, 30.12, 29.80, 30.50, 29.92, 30.4…\n"
     ]
    }
   ],
   "source": [
    "glimpse(new_sub_weather)"
   ]
  },
  {
   "cell_type": "markdown",
   "metadata": {},
   "source": [
    "<a id=\"cell6\"></a>\n",
    "## 6. Rename Columns\n",
    "Let's rename the following columns as:\n",
    "- 'HOURLYRelativeHumidity' to 'relative_humidity'\n",
    "- 'HOURLYDRYBULBTEMPF' to 'dry_bulb_temp_f'\n",
    "- 'HOURLYPrecip' to 'precip'\n",
    "- 'HOURLYWindSpeed' to 'wind_speed'\n",
    "- 'HOURLYStationPressure' to 'station_pressure'\n",
    "\n",
    "You can use `dplyr::rename()`. Then, store the final dataframe as a new variable.\n"
   ]
  },
  {
   "cell_type": "code",
   "execution_count": 15,
   "metadata": {
    "tags": []
   },
   "outputs": [],
   "source": [
    "final_sub_weather <- new_sub_weather %>%\n",
    "     rename(\n",
    "         relative_humidity = HOURLYRelativeHumidity,\n",
    "         dry_bulb_temp_f = HOURLYDRYBULBTEMPF,\n",
    "         precip = HOURLYPrecip,\n",
    "         wind_speed = HOURLYWindSpeed,\n",
    "         station_pressure = HOURLYStationPressure\n",
    "     )"
   ]
  },
  {
   "cell_type": "markdown",
   "metadata": {},
   "source": [
    "<a id=\"cell7\"></a>\n",
    "## 7. Exploratory Data Analysis\n",
    "Now that you have finished preprocessing the dataset, you can can start exploring the columns more.\n",
    "\n",
    "First, split the data into a training and testing set. Splitting a dataset is done randomly, so to have reproducible results set the seed = 1234. Also, use 80% of the data for training.\n"
   ]
  },
  {
   "cell_type": "code",
   "execution_count": 16,
   "metadata": {
    "tags": []
   },
   "outputs": [],
   "source": [
    "set.seed(1234)\n",
    "weather_split <- initial_split(final_sub_weather, prop = 0.8)\n",
    "train_data <- training(weather_split)\n",
    "test_data <- testing(weather_split)"
   ]
  },
  {
   "cell_type": "markdown",
   "metadata": {},
   "source": [
    "Next, looking at just the **training set**, plot histograms or box plots of the variables (`relative_humidity`, `dry_bulb_temp_f`, `precip`, `wind_speed`,  `station_pressure`) for an intial look of their distributions using `tidyverse`'s `ggplot`. Leave the testing set as is because it is good practice to not see the testing set until evaluating the final model.\n"
   ]
  },
  {
   "cell_type": "code",
   "execution_count": null,
   "metadata": {},
   "outputs": [],
   "source": []
  },
  {
   "cell_type": "markdown",
   "metadata": {},
   "source": [
    "<a id=\"cell8\"></a>\n",
    "## 8. Linear Regression \n",
    "After exploring the dataset more, you are now ready to start creating models to predict the precipitation (`precip`).\n",
    "\n",
    "Create simple linear regression models where `precip` is the response variable and each of `relative_humidity`, `dry_bulb_temp_f`,`wind_speed` or `station_pressure` will be a predictor variable, e.g. `precip ~ relative_humidity`, `precip ~ dry_bulb_temp_f`, etc. for a total of four simple models. \n",
    "Additionally, visualize each simple model with a scatter plot.\n"
   ]
  },
  {
   "cell_type": "code",
   "execution_count": 17,
   "metadata": {
    "tags": []
   },
   "outputs": [
    {
     "name": "stderr",
     "output_type": "stream",
     "text": [
      "`geom_smooth()` using formula 'y ~ x'\n"
     ]
    },
    {
     "data": {},
     "metadata": {},
     "output_type": "display_data"
    },
    {
     "data": {
      "image/png": "[encoded data removed]",
      "text/plain": [
       "plot without title"
      ]
     },
     "metadata": {},
     "output_type": "display_data",
     "source": "R display func"
    }
   ],
   "source": [
    "lm_relative_humidity <-lm(precip ~ relative_humidity, data = final_sub_weather)\n",
    "ggplot(final_sub_weather, aes(x = relative_humidity, y = precip)) +\n",
    "    geom_point() + \n",
    "    stat_smooth(method = \"lm\", col = \"red\")"
   ]
  },
  {
   "cell_type": "code",
   "execution_count": 18,
   "metadata": {
    "tags": []
   },
   "outputs": [
    {
     "name": "stderr",
     "output_type": "stream",
     "text": [
      "`geom_smooth()` using formula 'y ~ x'\n"
     ]
    },
    {
     "data": {},
     "metadata": {},
     "output_type": "display_data"
    },
    {
     "data": {
      "image/png": "[encoded data removed]",
      "text/plain": [
       "plot without title"
      ]
     },
     "metadata": {},
     "output_type": "display_data",
     "source": "R display func"
    }
   ],
   "source": [
    "lm_bulb_temp <-lm(precip ~ dry_bulb_temp_f, data = final_sub_weather)\n",
    "ggplot(final_sub_weather, aes(x = dry_bulb_temp_f, y = precip)) +\n",
    "    geom_point() + \n",
    "    stat_smooth(method = \"lm\", col = \"red\")"
   ]
  },
  {
   "cell_type": "code",
   "execution_count": 19,
   "metadata": {
    "tags": []
   },
   "outputs": [
    {
     "name": "stderr",
     "output_type": "stream",
     "text": [
      "`geom_smooth()` using formula 'y ~ x'\n"
     ]
    },
    {
     "data": {},
     "metadata": {},
     "output_type": "display_data"
    },
    {
     "data": {
      "image/png": "[encoded data removed]",
      "text/plain": [
       "plot without title"
      ]
     },
     "metadata": {},
     "output_type": "display_data",
     "source": "R display func"
    }
   ],
   "source": [
    "lm_wind_speed <-lm(precip ~ wind_speed, data = final_sub_weather)\n",
    "ggplot(final_sub_weather, aes(x = wind_speed, y = precip)) +\n",
    "    geom_point() + \n",
    "    stat_smooth(method = \"lm\", col = \"red\")"
   ]
  },
  {
   "cell_type": "code",
   "execution_count": 20,
   "metadata": {
    "tags": []
   },
   "outputs": [
    {
     "name": "stderr",
     "output_type": "stream",
     "text": [
      "`geom_smooth()` using formula 'y ~ x'\n"
     ]
    },
    {
     "data": {},
     "metadata": {},
     "output_type": "display_data"
    },
    {
     "data": {
      "image/png": "[encoded data removed]",
      "text/plain": [
       "plot without title"
      ]
     },
     "metadata": {},
     "output_type": "display_data",
     "source": "R display func"
    }
   ],
   "source": [
    "lm_station_pressure <-lm(precip ~ station_pressure, data = final_sub_weather)\n",
    "ggplot(final_sub_weather, aes(x = station_pressure, y = precip)) +\n",
    "    geom_point() + \n",
    "    stat_smooth(method = \"lm\", col = \"red\")"
   ]
  },
  {
   "cell_type": "markdown",
   "metadata": {},
   "source": [
    "<a id=\"cell9\"></a>\n",
    "## 9. Improve the Model\n",
    "Now, try improving the simple models you created in the previous section. \n",
    "\n",
    "Create at least two more models, each model should use at least one of the different techniques:\n",
    "1. Add more features/predictors\n",
    "2. Add regularization (L1, L2 or a mix)\n",
    "3. Add a polynomial component\n",
    "\n",
    "Also, for each of the models you create, check the model performance using the **training set** and a metric like MSE, RMSE, or R-squared.\n",
    "\n",
    "Consider using `tidymodels` if you choose to add regularization and tune lambda.\n"
   ]
  },
  {
   "cell_type": "code",
   "execution_count": 21,
   "metadata": {
    "tags": []
   },
   "outputs": [
    {
     "data": {
      "text/html": [
       "0.00125774311075274"
      ],
      "text/latex": [
       "0.00125774311075274"
      ],
      "text/markdown": [
       "0.00125774311075274"
      ],
      "text/plain": [
       "[1] 0.001257743"
      ]
     },
     "metadata": {},
     "output_type": "display_data"
    },
    {
     "data": {
      "text/html": [
       "0.0354646741244403"
      ],
      "text/latex": [
       "0.0354646741244403"
      ],
      "text/markdown": [
       "0.0354646741244403"
      ],
      "text/plain": [
       "[1] 0.03546467"
      ]
     },
     "metadata": {},
     "output_type": "display_data"
    },
    {
     "data": {
      "text/html": [
       "0.031225059293773"
      ],
      "text/latex": [
       "0.031225059293773"
      ],
      "text/markdown": [
       "0.031225059293773"
      ],
      "text/plain": [
       "[1] 0.03122506"
      ]
     },
     "metadata": {},
     "output_type": "display_data"
    },
    {
     "data": {
      "text/html": [
       "0.00122738408503214"
      ],
      "text/latex": [
       "0.00122738408503214"
      ],
      "text/markdown": [
       "0.00122738408503214"
      ],
      "text/plain": [
       "[1] 0.001227384"
      ]
     },
     "metadata": {},
     "output_type": "display_data"
    },
    {
     "data": {
      "text/html": [
       "0.035034041802683"
      ],
      "text/latex": [
       "0.035034041802683"
      ],
      "text/markdown": [
       "0.035034041802683"
      ],
      "text/plain": [
       "[1] 0.03503404"
      ]
     },
     "metadata": {},
     "output_type": "display_data"
    },
    {
     "data": {
      "text/html": [
       "0.0546090580538816"
      ],
      "text/latex": [
       "0.0546090580538816"
      ],
      "text/markdown": [
       "0.0546090580538816"
      ],
      "text/plain": [
       "[1] 0.05460906"
      ]
     },
     "metadata": {},
     "output_type": "display_data"
    }
   ],
   "source": [
    "# Multiple Linear Regression:\n",
    "mlr <- lm(precip ~ relative_humidity+dry_bulb_temp_f+wind_speed+relative_humidity, data = final_sub_weather)\n",
    "mlr_train <- lm(precip ~ relative_humidity+dry_bulb_temp_f+wind_speed+relative_humidity, data = train_data)\n",
    "    mse_mlr_train <- mean(mlr_train$residuals^2)\n",
    "    mse_mlr_train\n",
    "    rmse_mlr_train <-sqrt(mse_mlr_train)\n",
    "    rmse_mlr_train\n",
    "    summary(mlr_train)$r.squared\n",
    "# Polynomial Regression:\n",
    "poly_reg <- lm(precip ~ poly(relative_humidity,3)+poly(dry_bulb_temp_f,3)+poly(wind_speed,3)+poly(relative_humidity,3), data = final_sub_weather)\n",
    "poly_reg_train <- lm(precip ~ poly(relative_humidity,3)+poly(dry_bulb_temp_f,3)+poly(wind_speed,3)+poly(relative_humidity,3), data = train_data)\n",
    "    mse_poly_reg_train <- mean(poly_reg_train$residuals^2)\n",
    "    mse_poly_reg_train\n",
    "    rmse_poly_reg_train <-sqrt(mse_poly_reg_train)\n",
    "    rmse_poly_reg_train\n",
    "    summary(poly_reg_train)$r.squared"
   ]
  },
  {
   "cell_type": "markdown",
   "metadata": {},
   "source": [
    "<a id=\"cell10\"></a>\n",
    "## 10. Find Best Model\n",
    "Compare the regression metrics of each model from section 9 to find the best model overall. To do this, \n",
    "\n",
    "1. Evaluate the models on the **testing set** using at least one metric (like MSE, RMSE or R-squared).\n",
    "2. After calculating the metrics on the testing set for each model, print them out in as a table to easily compare. You can use something like:\n",
    "```\n",
    "model_names <- c(\"model_1\", \"model_2\", \"model_3\")\n",
    "train_error <- c(\"model_1_value\", \"model_2_value\", \"model_3_value\")\n",
    "test_error <- c(\"model_1_value\", \"model_2_value\", \"model_3_value\")\n",
    "comparison_df <- data.frame(model_names, train_error, test_error)\n",
    "```\n",
    "3. Finally, from the comparison table you create, conclude which model performed the best.\n"
   ]
  },
  {
   "cell_type": "code",
   "execution_count": 22,
   "metadata": {
    "tags": []
   },
   "outputs": [
    {
     "data": {
      "text/html": [
       "0.000989112937303895"
      ],
      "text/latex": [
       "0.000989112937303895"
      ],
      "text/markdown": [
       "0.000989112937303895"
      ],
      "text/plain": [
       "[1] 0.0009891129"
      ]
     },
     "metadata": {},
     "output_type": "display_data"
    },
    {
     "data": {
      "text/html": [
       "0.0314501659344413"
      ],
      "text/latex": [
       "0.0314501659344413"
      ],
      "text/markdown": [
       "0.0314501659344413"
      ],
      "text/plain": [
       "[1] 0.03145017"
      ]
     },
     "metadata": {},
     "output_type": "display_data"
    },
    {
     "data": {
      "text/html": [
       "0.0297785641409652"
      ],
      "text/latex": [
       "0.0297785641409652"
      ],
      "text/markdown": [
       "0.0297785641409652"
      ],
      "text/plain": [
       "[1] 0.02977856"
      ]
     },
     "metadata": {},
     "output_type": "display_data"
    },
    {
     "data": {
      "text/html": [
       "0.000971490370823067"
      ],
      "text/latex": [
       "0.000971490370823067"
      ],
      "text/markdown": [
       "0.000971490370823067"
      ],
      "text/plain": [
       "[1] 0.0009714904"
      ]
     },
     "metadata": {},
     "output_type": "display_data"
    },
    {
     "data": {
      "text/html": [
       "0.0311687402829031"
      ],
      "text/latex": [
       "0.0311687402829031"
      ],
      "text/markdown": [
       "0.0311687402829031"
      ],
      "text/plain": [
       "[1] 0.03116874"
      ]
     },
     "metadata": {},
     "output_type": "display_data"
    },
    {
     "data": {
      "text/html": [
       "0.0470645495019043"
      ],
      "text/latex": [
       "0.0470645495019043"
      ],
      "text/markdown": [
       "0.0470645495019043"
      ],
      "text/plain": [
       "[1] 0.04706455"
      ]
     },
     "metadata": {},
     "output_type": "display_data"
    },
    {
     "data": {
      "text/html": [
       "<table>\n",
       "<caption>A data.frame: 2 × 5</caption>\n",
       "<thead>\n",
       "\t<tr><th scope=col>model_names</th><th scope=col>train_rsq</th><th scope=col>test_rsq</th><th scope=col>train_rmse</th><th scope=col>test_rmse</th></tr>\n",
       "\t<tr><th scope=col>&lt;fct&gt;</th><th scope=col>&lt;dbl&gt;</th><th scope=col>&lt;dbl&gt;</th><th scope=col>&lt;dbl&gt;</th><th scope=col>&lt;dbl&gt;</th></tr>\n",
       "</thead>\n",
       "<tbody>\n",
       "\t<tr><td>mlr </td><td>0.03122506</td><td>0.02977856</td><td>0.03546467</td><td>0.03145017</td></tr>\n",
       "\t<tr><td>poly</td><td>0.05460906</td><td>0.04706455</td><td>0.03503404</td><td>0.03116874</td></tr>\n",
       "</tbody>\n",
       "</table>\n"
      ],
      "text/latex": [
       "A data.frame: 2 × 5\n",
       "\\begin{tabular}{lllll}\n",
       " model\\_names & train\\_rsq & test\\_rsq & train\\_rmse & test\\_rmse\\\\\n",
       " <fct> & <dbl> & <dbl> & <dbl> & <dbl>\\\\\n",
       "\\hline\n",
       "\t mlr  & 0.03122506 & 0.02977856 & 0.03546467 & 0.03145017\\\\\n",
       "\t poly & 0.05460906 & 0.04706455 & 0.03503404 & 0.03116874\\\\\n",
       "\\end{tabular}\n"
      ],
      "text/markdown": [
       "\n",
       "A data.frame: 2 × 5\n",
       "\n",
       "| model_names &lt;fct&gt; | train_rsq &lt;dbl&gt; | test_rsq &lt;dbl&gt; | train_rmse &lt;dbl&gt; | test_rmse &lt;dbl&gt; |\n",
       "|---|---|---|---|---|\n",
       "| mlr  | 0.03122506 | 0.02977856 | 0.03546467 | 0.03145017 |\n",
       "| poly | 0.05460906 | 0.04706455 | 0.03503404 | 0.03116874 |\n",
       "\n"
      ],
      "text/plain": [
       "  model_names train_rsq  test_rsq   train_rmse test_rmse \n",
       "1 mlr         0.03122506 0.02977856 0.03546467 0.03145017\n",
       "2 poly        0.05460906 0.04706455 0.03503404 0.03116874"
      ]
     },
     "metadata": {},
     "output_type": "display_data"
    }
   ],
   "source": [
    "# Multiple Linear Regression:\n",
    "mlr_test <- lm(precip ~ relative_humidity+dry_bulb_temp_f+wind_speed+relative_humidity, data = test_data)\n",
    "    mse_mlr_test <- mean(mlr_test$residuals^2)\n",
    "    mse_mlr_test\n",
    "    rmse_mlr_test <-sqrt(mse_mlr_test)\n",
    "    rmse_mlr_test\n",
    "    summary(mlr_test)$r.squared\n",
    "# Polynomial Regression:\n",
    "poly_reg_test <- lm(precip ~ poly(relative_humidity,3)+poly(dry_bulb_temp_f,3)+poly(wind_speed,3)+poly(relative_humidity,3), data = test_data)\n",
    "    mse_poly_reg_test <- mean(poly_reg_test$residuals^2)\n",
    "    mse_poly_reg_test\n",
    "    rmse_poly_reg_test <-sqrt(mse_poly_reg_test)\n",
    "    rmse_poly_reg_test\n",
    "    summary(poly_reg_test)$r.squared\n",
    "\n",
    "model_names <- c('mlr', 'poly')\n",
    "train_rsq <- c(summary(mlr_train)$r.squared,summary(poly_reg_train)$r.squared)\n",
    "test_rsq <- c(summary(mlr_test)$r.squared,summary(poly_reg_test)$r.squared)\n",
    "train_rmse <- c(rmse_mlr_train,rmse_poly_reg_train)\n",
    "test_rmse <- c(rmse_mlr_test,rmse_poly_reg_test)\n",
    "comparison_df <- data.frame(model_names, train_rsq, test_rsq,train_rmse, test_rmse)\n",
    "comparison_df"
   ]
  },
  {
   "cell_type": "markdown",
   "metadata": {},
   "source": [
    "## Author(s)\n",
    "\n",
    "<h4> Yiwen Li </h4>\n",
    "\n",
    "## Contributions\n",
    "\n",
    "<h4> Tiffany Zhu </h4>\n",
    "\n",
    "## <h3 align=\"center\"> © IBM Corporation 2021. All rights reserved. <h3/>\n"
   ]
  }
 ],
 "metadata": {
  "kernelspec": {
   "display_name": "R",
   "language": "R",
   "name": "conda-env-r-r"
  },
  "language_info": {
   "codemirror_mode": "r",
   "file_extension": ".r",
   "mimetype": "text/x-r-source",
   "name": "R",
   "pygments_lexer": "r",
   "version": "3.5.1"
  }
 },
 "nbformat": 4,
 "nbformat_minor": 4
}
